{
 "cells": [
  {
   "cell_type": "code",
   "execution_count": 2,
   "metadata": {},
   "outputs": [],
   "source": [
    "import matplotlib.pyplot as plt\n",
    "import numpy as np\n",
    "import tensorflow as tf\n",
    "import math\n",
    "\n",
    "%matplotlib inline\n"
   ]
  },
  {
   "cell_type": "code",
   "execution_count": 3,
   "metadata": {},
   "outputs": [
    {
     "name": "stdout",
     "output_type": "stream",
     "text": [
      "WARNING:tensorflow:From <ipython-input-3-4e25ee396bc7>:2: read_data_sets (from tensorflow.contrib.learn.python.learn.datasets.mnist) is deprecated and will be removed in a future version.\n",
      "Instructions for updating:\n",
      "Please use alternatives such as official/mnist/dataset.py from tensorflow/models.\n",
      "WARNING:tensorflow:From /Library/Frameworks/Python.framework/Versions/3.6/lib/python3.6/site-packages/tensorflow/contrib/learn/python/learn/datasets/mnist.py:260: maybe_download (from tensorflow.contrib.learn.python.learn.datasets.base) is deprecated and will be removed in a future version.\n",
      "Instructions for updating:\n",
      "Please write your own downloading logic.\n",
      "WARNING:tensorflow:From /Library/Frameworks/Python.framework/Versions/3.6/lib/python3.6/site-packages/tensorflow/contrib/learn/python/learn/datasets/base.py:252: _internal_retry.<locals>.wrap.<locals>.wrapped_fn (from tensorflow.contrib.learn.python.learn.datasets.base) is deprecated and will be removed in a future version.\n",
      "Instructions for updating:\n",
      "Please use urllib or similar directly.\n",
      "Successfully downloaded train-images-idx3-ubyte.gz 9912422 bytes.\n",
      "WARNING:tensorflow:From /Library/Frameworks/Python.framework/Versions/3.6/lib/python3.6/site-packages/tensorflow/contrib/learn/python/learn/datasets/mnist.py:262: extract_images (from tensorflow.contrib.learn.python.learn.datasets.mnist) is deprecated and will be removed in a future version.\n",
      "Instructions for updating:\n",
      "Please use tf.data to implement this functionality.\n",
      "Extracting MNIST_data/train-images-idx3-ubyte.gz\n",
      "Successfully downloaded train-labels-idx1-ubyte.gz 28881 bytes.\n",
      "WARNING:tensorflow:From /Library/Frameworks/Python.framework/Versions/3.6/lib/python3.6/site-packages/tensorflow/contrib/learn/python/learn/datasets/mnist.py:267: extract_labels (from tensorflow.contrib.learn.python.learn.datasets.mnist) is deprecated and will be removed in a future version.\n",
      "Instructions for updating:\n",
      "Please use tf.data to implement this functionality.\n",
      "Extracting MNIST_data/train-labels-idx1-ubyte.gz\n",
      "WARNING:tensorflow:From /Library/Frameworks/Python.framework/Versions/3.6/lib/python3.6/site-packages/tensorflow/contrib/learn/python/learn/datasets/mnist.py:110: dense_to_one_hot (from tensorflow.contrib.learn.python.learn.datasets.mnist) is deprecated and will be removed in a future version.\n",
      "Instructions for updating:\n",
      "Please use tf.one_hot on tensors.\n",
      "Successfully downloaded t10k-images-idx3-ubyte.gz 1648877 bytes.\n",
      "Extracting MNIST_data/t10k-images-idx3-ubyte.gz\n",
      "Successfully downloaded t10k-labels-idx1-ubyte.gz 4542 bytes.\n",
      "Extracting MNIST_data/t10k-labels-idx1-ubyte.gz\n",
      "WARNING:tensorflow:From /Library/Frameworks/Python.framework/Versions/3.6/lib/python3.6/site-packages/tensorflow/contrib/learn/python/learn/datasets/mnist.py:290: DataSet.__init__ (from tensorflow.contrib.learn.python.learn.datasets.mnist) is deprecated and will be removed in a future version.\n",
      "Instructions for updating:\n",
      "Please use alternatives such as official/mnist/dataset.py from tensorflow/models.\n"
     ]
    }
   ],
   "source": [
    "from tensorflow.examples.tutorials.mnist import input_data\n",
    "mnist = input_data.read_data_sets(\"MNIST_data\", one_hot=True)\n",
    "\n"
   ]
  },
  {
   "cell_type": "code",
   "execution_count": 488,
   "metadata": {
    "scrolled": true
   },
   "outputs": [],
   "source": [
    "LEARNING_RATE = 10e-5\n",
    "\n",
    "tf.reset_default_graph()\n",
    "\n",
    "initializer = tf.contrib.layers.variance_scaling_initializer()\n",
    "\n",
    "x = tf.placeholder(tf.float32, [None, 784])\n",
    "y_ = tf.placeholder(tf.float32, [None, 10])\n",
    "\n",
    "d1 = tf.layers.dense(x, units=1024,  activation=tf.nn.relu, kernel_initializer=initializer, name=\"d1\")\n",
    "dropout1 = tf.layers.dropout(d1, rate=0.1, training=is_training, name=\"dropout1\")\n",
    "d2 = tf.layers.dense(dropout1, units=1024, activation=tf.nn.relu, kernel_initializer=initializer, name=\"d2\")\n",
    "ln1 = tf.contrib.layers.layer_norm(d2)\n",
    "d3 = tf.layers.dense(ln1, units=1024,  activation=tf.nn.relu, kernel_initializer=initializer, name=\"d3\")\n",
    "dropout2 = tf.layers.dropout(d3, rate=0.1, training=is_training, name=\"dropout2\")\n",
    "ln2 = tf.contrib.layers.layer_norm(dropout2)\n",
    "d4 = tf.layers.dense(ln2, units=1024,  activation=tf.nn.relu, kernel_initializer=initializer, name=\"d4\")\n",
    "ln3 = tf.contrib.layers.layer_norm(d4)\n",
    "d5 = tf.layers.dense(ln3, units=1024,  activation=tf.nn.relu, kernel_initializer=initializer, name=\"d5\")\n",
    "d6 = tf.layers.dense(d5, units=10, name=\"d6\")\n",
    "y  = tf.nn.softmax(d6, name=\"y\")\n",
    "\n",
    "loss = tf.reduce_mean(tf.nn.softmax_cross_entropy_with_logits_v2(labels=y_, logits=y))\n",
    "train_step = tf.train.AdamOptimizer(LEARNING_RATE).minimize(loss)\n",
    "\n",
    "correct_prediction = tf.equal(tf.argmax(y, 1), tf.argmax(y_, 1))\n",
    "accuracy = tf.reduce_mean(tf.cast(correct_prediction, tf.float32))\n",
    "\n",
    "\n",
    "\n",
    "sess=tf.Session()\n",
    "tf.global_variables_initializer().run(session=sess)\n",
    "\n"
   ]
  },
  {
   "cell_type": "code",
   "execution_count": 489,
   "metadata": {},
   "outputs": [
    {
     "name": "stdout",
     "output_type": "stream",
     "text": [
      "INFO:tensorflow:Restoring parameters from ./hw3_1.ckpt\n"
     ]
    }
   ],
   "source": [
    "saver = tf.train.Saver()\n",
    "CHECK_POINT_FILE_NAME = \"./hw3_1.ckpt\"\n",
    "try:\n",
    "    saver.restore(sess, CHECK_POINT_FILE_NAME)\n",
    "except:\n",
    "    pass\n"
   ]
  },
  {
   "cell_type": "code",
   "execution_count": 79,
   "metadata": {},
   "outputs": [
    {
     "name": "stdout",
     "output_type": "stream",
     "text": [
      "Training Step:0  Accuracy =  0.9653  Loss =  1.5027733\n",
      "Training Step:500  Accuracy =  0.9686  Loss =  1.4704438\n",
      "Training Step:1000  Accuracy =  0.9709  Loss =  1.4858124\n",
      "Training Step:1500  Accuracy =  0.9736  Loss =  1.4916209\n",
      "Training Step:2000  Accuracy =  0.9693  Loss =  1.4647149\n"
     ]
    }
   ],
   "source": [
    "TRAIN_STEPS = 2000\n",
    "\n",
    "for i in range(TRAIN_STEPS+1):\n",
    "    batch = mnist.train.next_batch(128)\n",
    "    _, loss_value = sess.run((train_step, loss), feed_dict={x: batch[0], y_: batch[1]})\n",
    "    if i % 500 == 0:\n",
    "        is_training = False\n",
    "        print('Training Step:' + str(i) + '  Accuracy =  ' + \n",
    "              str(sess.run(accuracy, feed_dict={x: mnist.test.images, y_: mnist.test.labels})) + \n",
    "              '  Loss =  ' + str(loss_value))\n",
    "        is_training = True\n",
    "\n",
    "        "
   ]
  },
  {
   "cell_type": "code",
   "execution_count": 29,
   "metadata": {},
   "outputs": [],
   "source": [
    "save_path = saver.save(sess, CHECK_POINT_FILE_NAME)"
   ]
  },
  {
   "cell_type": "code",
   "execution_count": 471,
   "metadata": {},
   "outputs": [
    {
     "name": "stdout",
     "output_type": "stream",
     "text": [
      "INFO:tensorflow:Restoring parameters from ./hw3_1.ckpt\n"
     ]
    }
   ],
   "source": [
    "saver.restore(sess, CHECK_POINT_FILE_NAME)"
   ]
  },
  {
   "cell_type": "code",
   "execution_count": 490,
   "metadata": {
    "scrolled": true
   },
   "outputs": [
    {
     "data": {
      "text/plain": [
       "0.9591"
      ]
     },
     "execution_count": 490,
     "metadata": {},
     "output_type": "execute_result"
    }
   ],
   "source": [
    "# Run the Accuracy before performing copression (Baseline Performance)\n",
    "sess.run(accuracy, feed_dict={x: mnist.test.images, y_: mnist.test.labels})"
   ]
  },
  {
   "cell_type": "code",
   "execution_count": 252,
   "metadata": {
    "scrolled": true
   },
   "outputs": [
    {
     "name": "stdout",
     "output_type": "stream",
     "text": [
      "(784, 1024) (784, 784) (1024, 1024) (1024, 1024)\n",
      "(1024, 1024) (1024, 1024) (1024, 1024) (1024, 1024)\n",
      "(1024, 1024) (1024, 1024) (1024, 1024) (1024, 1024)\n",
      "(1024, 1024) (1024, 1024) (1024, 1024) (1024, 1024)\n",
      "(1024, 1024) (1024, 1024) (1024, 1024) (1024, 1024)\n",
      "(1024, 10) (10, 10) (1024, 1024) (1024, 1024)\n"
     ]
    }
   ],
   "source": [
    "# Calculate W hat based on different D value\n",
    "D_range = [10, 20, 50, 100, 200, 500, -1]\n",
    "\n",
    "Whs_list = {}\n",
    "target_weights = [\"d1/kernel:0\", \"d2/kernel:0\", \"d3/kernel:0\", \"d4/kernel:0\", \"d5/kernel:0\", \"d6/kernel:0\"]\n",
    "target_bias = [\"d1/bias:0\", \"d2/bias:0\", \"d3/bias:0\", \"d4/bias:0\", \"d5/bias:0\", \"d6/bias:0\"]\n",
    "\n",
    "bias_list = {}\n",
    "\n",
    "for d in D_range:\n",
    "    Whs_list[d] = {}\n",
    "\n",
    "for var in tf.trainable_variables():\n",
    "#     print(var.name)\n",
    "    if var.name in target_weights:\n",
    "        s, u, v = tf.linalg.svd(var, full_matrices=False)        \n",
    "        s_diag = tf.linalg.diag(s)\n",
    "        s_val = sess.run(s_diag)\n",
    "        print(var.shape, s_val.shape, u_val.shape, v_val.shape)\n",
    "        for d in D_range: \n",
    "            s_h = np.copy(s_val.reshape(1, -1)).reshape(s_val.shape)\n",
    "            if d > 0:\n",
    "                # set index > d to zero\n",
    "                # don't bother to set zero to u and v for col or row > D\n",
    "                # since as long as we turncate diag matrix, the element of W hat \n",
    "                # which row/col > D will be zero.\n",
    "                s_h[:,d:] = 0\n",
    "                s_h[d:,:] = 0\n",
    "            wh = tf.matmul(u, tf.matmul(s_h, v, adjoint_b=True))\n",
    "            Whs_list[d][var.name] = sess.run(wh)\n",
    "    elif var.name in target_bias:\n",
    "        bias_list[var.name] = sess.run(var)\n",
    "        \n"
   ]
  },
  {
   "cell_type": "code",
   "execution_count": 417,
   "metadata": {},
   "outputs": [
    {
     "name": "stdout",
     "output_type": "stream",
     "text": [
      "(784, 1024)\n",
      "(1024,)\n",
      "(1024, 1024)\n",
      "(1024,)\n",
      "(1024, 10)\n",
      "(10,)\n"
     ]
    }
   ],
   "source": [
    "# Check the weight and bias shape\n",
    "print(Whs_list[-1][\"d1/kernel:0\"].shape)\n",
    "print(bias_list[\"d1/bias:0\"].shape)\n",
    "\n",
    "print(Whs_list[-1][\"d5/kernel:0\"].shape)\n",
    "print(bias_list[\"d5/bias:0\"].shape)\n",
    "\n",
    "print(Whs_list[-1][\"d6/kernel:0\"].shape)\n",
    "print(bias_list[\"d6/bias:0\"].shape)"
   ]
  },
  {
   "cell_type": "code",
   "execution_count": 253,
   "metadata": {},
   "outputs": [],
   "source": [
    "# Give D, calculate the accuracy based on \n",
    "def test_acc(d):\n",
    "    \n",
    "    whs = Whs_list[d]\n",
    "\n",
    "    x = tf.placeholder(tf.float32, [None, 784])\n",
    "    y_ = tf.placeholder(tf.float32, [None, 10])\n",
    "    d1 = tf.layers.dense(x, units=1024,  activation=tf.nn.relu, trainable=False, \\\n",
    "                         kernel_initializer=tf.constant_initializer(whs[\"d1/kernel:0\"]), \\\n",
    "                         bias_initializer=tf.constant_initializer(bias_list[\"d1/bias:0\"]))\n",
    "    d2 = tf.layers.dense(d1, units=1024, activation=tf.nn.relu, trainable=False, \\\n",
    "                         kernel_initializer=tf.constant_initializer(whs[\"d2/kernel:0\"]), \\\n",
    "                         bias_initializer=tf.constant_initializer(bias_list[\"d2/bias:0\"]))\n",
    "    ln1 = tf.contrib.layers.layer_norm(d2)\n",
    "    d3 = tf.layers.dense(ln1, units=1024,  activation=tf.nn.relu, trainable=False, \\\n",
    "                         kernel_initializer=tf.constant_initializer(whs[\"d3/kernel:0\"]), \\\n",
    "                         bias_initializer=tf.constant_initializer(bias_list[\"d3/bias:0\"]))\n",
    "    ln2 = tf.contrib.layers.layer_norm(d3)\n",
    "    d4 = tf.layers.dense(ln2, units=1024,  activation=tf.nn.relu, trainable=False, \\\n",
    "                         kernel_initializer=tf.constant_initializer(whs[\"d4/kernel:0\"]), \\\n",
    "                         bias_initializer=tf.constant_initializer(bias_list[\"d4/bias:0\"]))\n",
    "    ln3 = tf.contrib.layers.layer_norm(d4)\n",
    "    d5 = tf.layers.dense(ln3, units=1024,  activation=tf.nn.relu, trainable=False, \\\n",
    "                         kernel_initializer=tf.constant_initializer(whs[\"d5/kernel:0\"]), \\\n",
    "                         bias_initializer=tf.constant_initializer(bias_list[\"d5/bias:0\"]))\n",
    "    d6 = tf.layers.dense(d5, units=10, trainable=False, \\\n",
    "                         kernel_initializer=tf.constant_initializer(whs[\"d6/kernel:0\"]), \\\n",
    "                         bias_initializer=tf.constant_initializer(bias_list[\"d6/bias:0\"]))\n",
    "    y  = tf.nn.softmax(d6)\n",
    "\n",
    "    correct_prediction = tf.equal(tf.argmax(y, 1), tf.argmax(y_, 1))\n",
    "    accuracy = tf.reduce_mean(tf.cast(correct_prediction, tf.float32))\n",
    "\n",
    "    sess=tf.Session()\n",
    "    tf.global_variables_initializer().run(session=sess)\n",
    "    acc = sess.run(accuracy, feed_dict={x: mnist.test.images, y_: mnist.test.labels})\n",
    "    print(\"D : {}, accuracy : {}\".format(d, acc)) \n",
    "    return acc\n",
    "\n",
    "    "
   ]
  },
  {
   "cell_type": "code",
   "execution_count": 254,
   "metadata": {},
   "outputs": [
    {
     "name": "stdout",
     "output_type": "stream",
     "text": [
      "D : 10, accuracy : 0.10779999941587448\n",
      "D : 20, accuracy : 0.17020000517368317\n",
      "D : 50, accuracy : 0.39879998564720154\n",
      "D : 100, accuracy : 0.6262999773025513\n",
      "D : 200, accuracy : 0.7976999878883362\n",
      "D : 500, accuracy : 0.9585999846458435\n",
      "D : -1, accuracy : 0.9707000255584717\n"
     ]
    }
   ],
   "source": [
    "acc_results = [ test_acc(d) for d in D_range ]"
   ]
  },
  {
   "cell_type": "code",
   "execution_count": 255,
   "metadata": {},
   "outputs": [
    {
     "data": {
      "text/plain": [
       "Text(0, 0.5, 'Accuracy')"
      ]
     },
     "execution_count": 255,
     "metadata": {},
     "output_type": "execute_result"
    },
    {
     "data": {
      "image/png": "[encoded data removed]",
      "text/plain": [
       "<Figure size 432x288 with 1 Axes>"
      ]
     },
     "metadata": {
      "needs_background": "light"
     },
     "output_type": "display_data"
    }
   ],
   "source": [
    "# Draw the chart to show the relation between D and accuracy\n",
    "x = D_range[:]\n",
    "x[-1] = 1024\n",
    "plt.plot(x, acc_results, 'ro')\n",
    "\n",
    "plt.xlabel('D')\n",
    "plt.ylabel('Accuracy')\n"
   ]
  },
  {
   "cell_type": "code",
   "execution_count": 491,
   "metadata": {},
   "outputs": [
    {
     "name": "stdout",
     "output_type": "stream",
     "text": [
      "(784, 20) (1024, 20)\n",
      "(784, 1024)\n",
      "(1024, 20) (1024, 20)\n",
      "(1024, 1024)\n",
      "(1024, 20) (1024, 20)\n",
      "(1024, 1024)\n",
      "(1024, 20) (1024, 20)\n",
      "(1024, 1024)\n",
      "(1024, 20) (1024, 20)\n",
      "(1024, 1024)\n",
      "(1024, 10) (10, 10)\n",
      "(1024, 10)\n"
     ]
    }
   ],
   "source": [
    "# Now we build network with using fixed D = 20\n",
    "\n",
    "FIX_D = 20\n",
    "\n",
    "de_u = {}\n",
    "de_v = {}\n",
    "\n",
    "for var in tf.trainable_variables():\n",
    "    if var.name in target_weights:\n",
    "        s, u, v = tf.linalg.svd(var, full_matrices=False)        \n",
    "        s_diag = tf.linalg.diag(s)\n",
    "        v2 = tf.matmul(v, s_diag, adjoint_b=True)  \n",
    "        u_val = sess.run(u)\n",
    "        v2_val = sess.run(v)\n",
    "        u_val = u_val[:, :FIX_D]\n",
    "        v2_val = v2_val[:, :FIX_D]\n",
    "        print(u_val.shape, v2_val.shape)\n",
    "        print(tf.matmul(u_val, v2_val, adjoint_b=True).shape)\n",
    "        de_u[var.name] = u_val\n",
    "        de_v[var.name] = v2_val"
   ]
  },
  {
   "cell_type": "code",
   "execution_count": 492,
   "metadata": {},
   "outputs": [],
   "source": [
    "# Build the network based on U V2\n",
    "\n",
    "# tf.reset_default_graph()\n",
    "\n",
    "def fine_tune_model():\n",
    "        \n",
    "    with tf.variable_scope(\"fine_tune_model\", reuse=tf.AUTO_REUSE):\n",
    "    \n",
    "        x = tf.placeholder(tf.float32, [None, 784])\n",
    "        y_ = tf.placeholder(tf.float32, [None, 10])\n",
    "\n",
    "        U1 = tf.get_variable(\"ft_U1\", [784, FIX_D], initializer = tf.constant_initializer(de_u[\"d1/kernel:0\"]))\n",
    "        V1 = tf.get_variable(\"ft_V1\", [1024, FIX_D], initializer = tf.constant_initializer(de_v[\"d1/kernel:0\"]))    \n",
    "        b1 = tf.Variable(bias_list[\"d1/bias:0\"])\n",
    "\n",
    "        U2 = tf.get_variable(\"ft_U2\", [1024, FIX_D], initializer = tf.constant_initializer(de_u[\"d2/kernel:0\"]))\n",
    "        V2 = tf.get_variable(\"ft_V2\", [1024, FIX_D], initializer = tf.constant_initializer(de_v[\"d2/kernel:0\"]))    \n",
    "        b2 = tf.Variable(bias_list[\"d2/bias:0\"])\n",
    "        \n",
    "        U3 = tf.get_variable(\"ft_U3\", [1024, FIX_D], initializer = tf.constant_initializer(de_u[\"d3/kernel:0\"]))\n",
    "        V3 = tf.get_variable(\"ft_V3\", [1024, FIX_D], initializer = tf.constant_initializer(de_v[\"d3/kernel:0\"]))    \n",
    "        b3 = tf.Variable(bias_list[\"d3/bias:0\"])\n",
    "        \n",
    "        U4 = tf.get_variable(\"ft_U4\", [1024, FIX_D], initializer = tf.constant_initializer(de_u[\"d4/kernel:0\"]))\n",
    "        V4 = tf.get_variable(\"ft_V4\", [1024, FIX_D], initializer = tf.constant_initializer(de_v[\"d4/kernel:0\"]))    \n",
    "        b4 = tf.Variable(bias_list[\"d4/bias:0\"])\n",
    "        \n",
    "        U5 = tf.get_variable(\"ft_U5\", [1024, FIX_D], initializer = tf.constant_initializer(de_u[\"d5/kernel:0\"]))\n",
    "        V5 = tf.get_variable(\"ft_V5\", [1024, FIX_D], initializer = tf.constant_initializer(de_v[\"d5/kernel:0\"]))    \n",
    "        b5 = tf.Variable(bias_list[\"d5/bias:0\"])\n",
    "            \n",
    "        U6 = tf.get_variable(\"ft_U6\", [1024, 10], initializer = tf.constant_initializer(de_u[\"d6/kernel:0\"]))\n",
    "        V6 = tf.get_variable(\"ft_V6\", [10, 10], initializer = tf.constant_initializer(de_v[\"d6/kernel:0\"]))    \n",
    "        b6 = tf.Variable(bias_list[\"d6/bias:0\"])\n",
    "\n",
    "        d1 = tf.nn.relu(tf.nn.bias_add(tf.matmul(x, tf.matmul(U1, V1, adjoint_b=True)), b1))\n",
    "        d2 = tf.nn.relu(tf.nn.bias_add(tf.matmul(d1, tf.matmul(U2, V2, adjoint_b=True)), b2))\n",
    "        ln1 = tf.contrib.layers.layer_norm(d2)    \n",
    "        d3 = tf.nn.relu(tf.nn.bias_add(tf.matmul(ln1, tf.matmul(U3, V3, adjoint_b=True)), b3))\n",
    "        ln2 = tf.contrib.layers.layer_norm(d3)\n",
    "        d4 = tf.nn.relu(tf.nn.bias_add(tf.matmul(ln2, tf.matmul(U4, V4, adjoint_b=True)), b4))\n",
    "        ln3 = tf.contrib.layers.layer_norm(d4)\n",
    "        d5 = tf.nn.relu(tf.nn.bias_add(tf.matmul(ln3, tf.matmul(U5, V5, adjoint_b=True)), b5))\n",
    "        d6 = tf.nn.relu(tf.nn.bias_add(tf.matmul(d5, tf.matmul(U6, V6, adjoint_b=True)), b6))\n",
    "        y  = tf.nn.softmax(d6)\n",
    "\n",
    "        correct_prediction = tf.equal(tf.argmax(y, 1), tf.argmax(y_, 1))\n",
    "        accuracy = tf.reduce_mean(tf.cast(correct_prediction, tf.float32))\n",
    "        loss = tf.reduce_mean(tf.nn.softmax_cross_entropy_with_logits_v2(labels=y_, logits=y))\n",
    "        \n",
    "        train_step = tf.train.AdamOptimizer(LEARNING_RATE).minimize(loss)\n",
    "\n",
    "        sess=tf.Session()\n",
    "        tf.global_variables_initializer().run(session=sess)\n",
    "        \n",
    "        return (sess, accuracy, x, y_, train_step, loss)\n",
    "\n"
   ]
  },
  {
   "cell_type": "code",
   "execution_count": 493,
   "metadata": {},
   "outputs": [
    {
     "name": "stdout",
     "output_type": "stream",
     "text": [
      "accuracy : 0.12460000067949295\n"
     ]
    }
   ],
   "source": [
    "(sess, accuracy, x, y_, train_step, loss) = fine_tune_model()\n",
    "\n",
    "acc = sess.run(accuracy, feed_dict={x: mnist.test.images, y_: mnist.test.labels})\n",
    "print(\"accuracy : {}\".format(acc)) \n"
   ]
  },
  {
   "cell_type": "code",
   "execution_count": 496,
   "metadata": {},
   "outputs": [
    {
     "name": "stdout",
     "output_type": "stream",
     "text": [
      "Training Step:0  Accuracy =  0.9508  Loss =  1.5148978\n",
      "Training Step:500  Accuracy =  0.9549  Loss =  1.532229\n",
      "Training Step:1000  Accuracy =  0.9537  Loss =  1.5188977\n",
      "Training Step:1500  Accuracy =  0.9551  Loss =  1.5048193\n",
      "Training Step:2000  Accuracy =  0.9591  Loss =  1.5033535\n"
     ]
    }
   ],
   "source": [
    "# fine-tune the new network\n",
    "TRAIN_STEPS = 4000\n",
    "\n",
    "for i in range(TRAIN_STEPS+1):\n",
    "    batch = mnist.train.next_batch(128)\n",
    "    _, loss_value = sess.run((train_step, loss), feed_dict={x: batch[0], y_: batch[1]})\n",
    "    if i % 500 == 0:\n",
    "        is_training = False\n",
    "        print('Training Step:' + str(i) + '  Accuracy =  ' + \n",
    "              str(sess.run(accuracy, feed_dict={x: mnist.test.images, y_: mnist.test.labels})) + \n",
    "              '  Loss =  ' + str(loss_value))\n",
    "        is_training = True\n",
    "\n",
    "        "
   ]
  },
  {
   "cell_type": "code",
   "execution_count": 497,
   "metadata": {},
   "outputs": [
    {
     "name": "stdout",
     "output_type": "stream",
     "text": [
      "accuracy : 0.9591000080108643\n"
     ]
    }
   ],
   "source": [
    "acc = sess.run(accuracy, feed_dict={x: mnist.test.images, y_: mnist.test.labels})\n",
    "print(\"accuracy : {}\".format(acc)) \n"
   ]
  },
  {
   "cell_type": "code",
   "execution_count": null,
   "metadata": {},
   "outputs": [],
   "source": []
  }
 ],
 "metadata": {
  "kernelspec": {
   "display_name": "Python 3",
   "language": "python",
   "name": "python3"
  },
  "language_info": {
   "codemirror_mode": {
    "name": "ipython",
    "version": 3
   },
   "file_extension": ".py",
   "mimetype": "text/x-python",
   "name": "python",
   "nbconvert_exporter": "python",
   "pygments_lexer": "ipython3",
   "version": "3.6.3"
  }
 },
 "nbformat": 4,
 "nbformat_minor": 2
}
