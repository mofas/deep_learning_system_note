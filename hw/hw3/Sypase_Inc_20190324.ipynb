{
 "cells": [
  {
   "cell_type": "markdown",
   "metadata": {},
   "source": [
    "## Summaries: \n",
    "-------------------\n",
    "### * Neural network model is trained to predict Cancer Type. The accuracy is about 0.3, better than baseline (0.08).\n",
    "### * Three explanatory variables - Age, Height, Medication -  is procressed and cleaned.\n",
    "### * One third Sex is missing. \n",
    "-------------------\n"
   ]
  },
  {
   "cell_type": "code",
   "execution_count": null,
   "metadata": {
    "scrolled": true
   },
   "outputs": [],
   "source": [
    "import numpy as np\n",
    "import pandas as pd\n",
    "import matplotlib.pyplot as plt\n",
    "%matplotlib inline\n",
    "from sklearn.cross_validation import train_test_split\n",
    "import tensorflow as tf\n",
    "import math\n",
    "from sklearn.svm import SVC, LinearSVC"
   ]
  },
  {
   "cell_type": "markdown",
   "metadata": {},
   "source": [
    "## read data and overview"
   ]
  },
  {
   "cell_type": "code",
   "execution_count": 2,
   "metadata": {
    "scrolled": true
   },
   "outputs": [],
   "source": [
    "df = pd.read_csv('patients.txt', delimiter = \"\\t\")\n",
    "df.head()"
   ]
  },
  {
   "cell_type": "code",
   "execution_count": 3,
   "metadata": {
    "scrolled": true
   },
   "outputs": [
    {
     "data": {
      "text/plain": [
       "patient_id       int64\n",
       "cancer_type     object\n",
       "age              int64\n",
       "height(in)       int64\n",
       "primary_site    object\n",
       "sex             object\n",
       "medication      object\n",
       "dtype: object"
      ]
     },
     "execution_count": 3,
     "metadata": {},
     "output_type": "execute_result"
    }
   ],
   "source": [
    "df.dtypes"
   ]
  },
  {
   "cell_type": "code",
   "execution_count": 4,
   "metadata": {},
   "outputs": [
    {
     "data": {
      "text/html": [
       "<div>\n",
       "<style>\n",
       "    .dataframe thead tr:only-child th {\n",
       "        text-align: right;\n",
       "    }\n",
       "\n",
       "    .dataframe thead th {\n",
       "        text-align: left;\n",
       "    }\n",
       "\n",
       "    .dataframe tbody tr th {\n",
       "        vertical-align: top;\n",
       "    }\n",
       "</style>\n",
       "<table border=\"1\" class=\"dataframe\">\n",
       "  <thead>\n",
       "    <tr style=\"text-align: right;\">\n",
       "      <th></th>\n",
       "      <th>patient_id</th>\n",
       "      <th>age</th>\n",
       "      <th>height(in)</th>\n",
       "    </tr>\n",
       "  </thead>\n",
       "  <tbody>\n",
       "    <tr>\n",
       "      <th>count</th>\n",
       "      <td>10086.000000</td>\n",
       "      <td>10086.000000</td>\n",
       "      <td>10086.000000</td>\n",
       "    </tr>\n",
       "    <tr>\n",
       "      <th>mean</th>\n",
       "      <td>5994.338786</td>\n",
       "      <td>50.074261</td>\n",
       "      <td>42.055126</td>\n",
       "    </tr>\n",
       "    <tr>\n",
       "      <th>std</th>\n",
       "      <td>2316.591112</td>\n",
       "      <td>29.286063</td>\n",
       "      <td>24.115664</td>\n",
       "    </tr>\n",
       "    <tr>\n",
       "      <th>min</th>\n",
       "      <td>2002.000000</td>\n",
       "      <td>-10.000000</td>\n",
       "      <td>1.000000</td>\n",
       "    </tr>\n",
       "    <tr>\n",
       "      <th>25%</th>\n",
       "      <td>3977.000000</td>\n",
       "      <td>24.000000</td>\n",
       "      <td>21.000000</td>\n",
       "    </tr>\n",
       "    <tr>\n",
       "      <th>50%</th>\n",
       "      <td>5997.000000</td>\n",
       "      <td>51.000000</td>\n",
       "      <td>42.000000</td>\n",
       "    </tr>\n",
       "    <tr>\n",
       "      <th>75%</th>\n",
       "      <td>7988.000000</td>\n",
       "      <td>75.000000</td>\n",
       "      <td>63.000000</td>\n",
       "    </tr>\n",
       "    <tr>\n",
       "      <th>max</th>\n",
       "      <td>10000.000000</td>\n",
       "      <td>100.000000</td>\n",
       "      <td>84.000000</td>\n",
       "    </tr>\n",
       "  </tbody>\n",
       "</table>\n",
       "</div>"
      ],
      "text/plain": [
       "         patient_id           age    height(in)\n",
       "count  10086.000000  10086.000000  10086.000000\n",
       "mean    5994.338786     50.074261     42.055126\n",
       "std     2316.591112     29.286063     24.115664\n",
       "min     2002.000000    -10.000000      1.000000\n",
       "25%     3977.000000     24.000000     21.000000\n",
       "50%     5997.000000     51.000000     42.000000\n",
       "75%     7988.000000     75.000000     63.000000\n",
       "max    10000.000000    100.000000     84.000000"
      ]
     },
     "execution_count": 4,
     "metadata": {},
     "output_type": "execute_result"
    }
   ],
   "source": [
    "df.describe()"
   ]
  },
  {
   "cell_type": "code",
   "execution_count": 5,
   "metadata": {
    "scrolled": false
   },
   "outputs": [
    {
     "data": {
      "text/html": [
       "<div>\n",
       "<style>\n",
       "    .dataframe thead tr:only-child th {\n",
       "        text-align: right;\n",
       "    }\n",
       "\n",
       "    .dataframe thead th {\n",
       "        text-align: left;\n",
       "    }\n",
       "\n",
       "    .dataframe tbody tr th {\n",
       "        vertical-align: top;\n",
       "    }\n",
       "</style>\n",
       "<table border=\"1\" class=\"dataframe\">\n",
       "  <thead>\n",
       "    <tr style=\"text-align: right;\">\n",
       "      <th></th>\n",
       "      <th>cancer_type</th>\n",
       "      <th>primary_site</th>\n",
       "      <th>sex</th>\n",
       "      <th>medication</th>\n",
       "    </tr>\n",
       "  </thead>\n",
       "  <tbody>\n",
       "    <tr>\n",
       "      <th>count</th>\n",
       "      <td>10086</td>\n",
       "      <td>10086</td>\n",
       "      <td>6785</td>\n",
       "      <td>10086</td>\n",
       "    </tr>\n",
       "    <tr>\n",
       "      <th>unique</th>\n",
       "      <td>20</td>\n",
       "      <td>19</td>\n",
       "      <td>2</td>\n",
       "      <td>32</td>\n",
       "    </tr>\n",
       "    <tr>\n",
       "      <th>top</th>\n",
       "      <td>cervix</td>\n",
       "      <td>cervical cancer</td>\n",
       "      <td>female</td>\n",
       "      <td>Dacarbazine</td>\n",
       "    </tr>\n",
       "    <tr>\n",
       "      <th>freq</th>\n",
       "      <td>812</td>\n",
       "      <td>797</td>\n",
       "      <td>3428</td>\n",
       "      <td>438</td>\n",
       "    </tr>\n",
       "  </tbody>\n",
       "</table>\n",
       "</div>"
      ],
      "text/plain": [
       "       cancer_type     primary_site     sex   medication\n",
       "count        10086            10086    6785        10086\n",
       "unique          20               19       2           32\n",
       "top         cervix  cervical cancer  female  Dacarbazine\n",
       "freq           812              797    3428          438"
      ]
     },
     "execution_count": 5,
     "metadata": {},
     "output_type": "execute_result"
    }
   ],
   "source": [
    "df.describe(include=['object'])"
   ]
  },
  {
   "cell_type": "code",
   "execution_count": 6,
   "metadata": {
    "scrolled": true
   },
   "outputs": [
    {
     "data": {
      "text/plain": [
       "patient_id         0\n",
       "cancer_type        0\n",
       "age                0\n",
       "height(in)         0\n",
       "primary_site       0\n",
       "sex             3301\n",
       "medication         0\n",
       "dtype: int64"
      ]
     },
     "execution_count": 6,
     "metadata": {},
     "output_type": "execute_result"
    }
   ],
   "source": [
    "df.isnull().sum()"
   ]
  },
  {
   "cell_type": "markdown",
   "metadata": {},
   "source": [
    "----------\n",
    "the target variable is cancer_type, a categorical variable. <br>\n",
    "we have five explanatory variables: <br>\n",
    "two numeric variables : age and height(in); <br>\n",
    "two categorical variables : sex, medication.\n",
    "\n",
    "----------"
   ]
  },
  {
   "cell_type": "markdown",
   "metadata": {},
   "source": [
    "## data cleaning"
   ]
  },
  {
   "cell_type": "markdown",
   "metadata": {},
   "source": [
    "### one var - cancer_type (targer variable)"
   ]
  },
  {
   "cell_type": "code",
   "execution_count": 7,
   "metadata": {
    "scrolled": false
   },
   "outputs": [
    {
     "data": {
      "text/plain": [
       "<matplotlib.axes._subplots.AxesSubplot at 0x1018c97b8>"
      ]
     },
     "execution_count": 7,
     "metadata": {},
     "output_type": "execute_result"
    },
    {
     "data": {
      "image/png": "[encoded data removed]",
      "text/plain": [
       "<matplotlib.figure.Figure at 0x1270bef28>"
      ]
     },
     "metadata": {},
     "output_type": "display_data"
    }
   ],
   "source": [
    "df['cancer_type'].value_counts().plot.bar()"
   ]
  },
  {
   "cell_type": "code",
   "execution_count": 8,
   "metadata": {},
   "outputs": [
    {
     "data": {
      "text/plain": [
       "cervix                   812\n",
       "brain                    797\n",
       "hypopharyngeal cancer    796\n",
       "kidney                   795\n",
       "ovary                    786\n",
       "breast                   785\n",
       "liver                    778\n",
       "blood                    777\n",
       "colon                    768\n",
       "prostate                 747\n",
       "thyroid                  738\n",
       "lung                     734\n",
       "melanoma                 728\n",
       "teeth                      9\n",
       "bone                       8\n",
       "buttock                    8\n",
       "armpit                     7\n",
       "tongue                     7\n",
       "heart                      4\n",
       "feet                       2\n",
       "Name: cancer_type, dtype: int64"
      ]
     },
     "execution_count": 8,
     "metadata": {},
     "output_type": "execute_result"
    }
   ],
   "source": [
    "df['cancer_type'].value_counts()"
   ]
  },
  {
   "cell_type": "markdown",
   "metadata": {},
   "source": [
    "----------\n",
    "there are two groups of cancers: common cancers and rare cancers.\n",
    "\n",
    "----------"
   ]
  },
  {
   "cell_type": "markdown",
   "metadata": {},
   "source": [
    "### one var - age"
   ]
  },
  {
   "cell_type": "code",
   "execution_count": 9,
   "metadata": {},
   "outputs": [
    {
     "data": {
      "text/plain": [
       "<matplotlib.axes._subplots.AxesSubplot at 0x1018ff6d8>"
      ]
     },
     "execution_count": 9,
     "metadata": {},
     "output_type": "execute_result"
    },
    {
     "data": {
      "image/png": "[encoded data removed]",
      "text/plain": [
       "<matplotlib.figure.Figure at 0x1270f1518>"
      ]
     },
     "metadata": {},
     "output_type": "display_data"
    }
   ],
   "source": [
    "df['age'].hist()"
   ]
  },
  {
   "cell_type": "markdown",
   "metadata": {},
   "source": [
    "----------\n",
    "we find some unreasonable negative values.\n",
    "\n",
    "----------"
   ]
  },
  {
   "cell_type": "markdown",
   "metadata": {},
   "source": [
    "### one var - height(in)"
   ]
  },
  {
   "cell_type": "code",
   "execution_count": 10,
   "metadata": {},
   "outputs": [
    {
     "data": {
      "text/plain": [
       "<matplotlib.axes._subplots.AxesSubplot at 0x127726a20>"
      ]
     },
     "execution_count": 10,
     "metadata": {},
     "output_type": "execute_result"
    },
    {
     "data": {
      "image/png": "[encoded data removed]",
      "text/plain": [
       "<matplotlib.figure.Figure at 0x12769d860>"
      ]
     },
     "metadata": {},
     "output_type": "display_data"
    }
   ],
   "source": [
    "df['height(in)'].hist()"
   ]
  },
  {
   "cell_type": "markdown",
   "metadata": {},
   "source": [
    "----------\n",
    "we find some unreasonable low values.\n",
    "\n",
    "----------"
   ]
  },
  {
   "cell_type": "markdown",
   "metadata": {},
   "source": [
    "### one var - primary_site"
   ]
  },
  {
   "cell_type": "code",
   "execution_count": 11,
   "metadata": {},
   "outputs": [
    {
     "data": {
      "text/plain": [
       "<matplotlib.axes._subplots.AxesSubplot at 0x129993470>"
      ]
     },
     "execution_count": 11,
     "metadata": {},
     "output_type": "execute_result"
    },
    {
     "data": {
      "image/png": "[encoded data removed]",
      "text/plain": [
       "<matplotlib.figure.Figure at 0x12776f588>"
      ]
     },
     "metadata": {},
     "output_type": "display_data"
    }
   ],
   "source": [
    "df['primary_site'].hist()"
   ]
  },
  {
   "cell_type": "markdown",
   "metadata": {},
   "source": [
    "----------\n",
    "although we will not use primary_site to built model, we still take a look at primary_site. We see that some primary sites have fewer data points.\n",
    "\n",
    "----------\n"
   ]
  },
  {
   "cell_type": "markdown",
   "metadata": {},
   "source": [
    "### one var - sex"
   ]
  },
  {
   "cell_type": "code",
   "execution_count": 12,
   "metadata": {
    "scrolled": true
   },
   "outputs": [
    {
     "data": {
      "text/plain": [
       "<matplotlib.axes._subplots.AxesSubplot at 0x129a807f0>"
      ]
     },
     "execution_count": 12,
     "metadata": {},
     "output_type": "execute_result"
    },
    {
     "data": {
      "image/png": "[encoded data removed]",
      "text/plain": [
       "<matplotlib.figure.Figure at 0x129aba780>"
      ]
     },
     "metadata": {},
     "output_type": "display_data"
    }
   ],
   "source": [
    "df['sex'].value_counts().plot.bar()"
   ]
  },
  {
   "cell_type": "code",
   "execution_count": 13,
   "metadata": {},
   "outputs": [
    {
     "data": {
      "text/plain": [
       "female    3428\n",
       "male      3357\n",
       "Name: sex, dtype: int64"
      ]
     },
     "execution_count": 13,
     "metadata": {},
     "output_type": "execute_result"
    }
   ],
   "source": [
    "df['sex'].value_counts()"
   ]
  },
  {
   "cell_type": "markdown",
   "metadata": {},
   "source": [
    "----------\n",
    "even though the distribution of sex is reasonabl, lots of missing data would be a problem needed to deal with.\n",
    "\n",
    "----------\n"
   ]
  },
  {
   "cell_type": "markdown",
   "metadata": {},
   "source": [
    "### one var - medication"
   ]
  },
  {
   "cell_type": "code",
   "execution_count": 14,
   "metadata": {},
   "outputs": [
    {
     "data": {
      "text/plain": [
       "<matplotlib.axes._subplots.AxesSubplot at 0x12773c518>"
      ]
     },
     "execution_count": 14,
     "metadata": {},
     "output_type": "execute_result"
    },
    {
     "data": {
      "image/png": "[encoded data removed]",
      "text/plain": [
       "<matplotlib.figure.Figure at 0x101912ac8>"
      ]
     },
     "metadata": {},
     "output_type": "display_data"
    }
   ],
   "source": [
    "df['medication'].value_counts().plot.bar()"
   ]
  },
  {
   "cell_type": "code",
   "execution_count": 15,
   "metadata": {},
   "outputs": [
    {
     "data": {
      "text/plain": [
       "Acetaminophen            397\n",
       "Aldesleukin              400\n",
       "Alectinib                190\n",
       "Amifostine               404\n",
       "Bevacizumab              192\n",
       "Bevacizumb               212\n",
       "Crizotinib               182\n",
       "Dabrafenib               403\n",
       "Dacarbazine              438\n",
       "Dacogen                  375\n",
       "Dacomitinib              362\n",
       "Dactinomycin             396\n",
       "Daratumumab              372\n",
       "Darbepoetin Alfa         385\n",
       "Darzalex(Daratumumab)    392\n",
       "Dasatinib                385\n",
       "Lenvatinib               199\n",
       "Lorlatinb                198\n",
       "Lorlatinib               164\n",
       "Ramucirumab              191\n",
       "Regorafenib              200\n",
       "Sorafenib                187\n",
       "Sorafennb                192\n",
       "Ziv-aflibercept          173\n",
       "biotin                   404\n",
       "cannabis                 389\n",
       "codeine                  358\n",
       "hydrocodone              403\n",
       "hydromorphone            412\n",
       "morphine                 381\n",
       "oxycodone                393\n",
       "riboflavin               357\n",
       "Name: medication, dtype: int64"
      ]
     },
     "execution_count": 15,
     "metadata": {},
     "output_type": "execute_result"
    }
   ],
   "source": [
    "df['medication'].value_counts().sort_index()"
   ]
  },
  {
   "cell_type": "markdown",
   "metadata": {},
   "source": [
    "----------\n",
    "some medications are duplicated or typo, so we need to eliminate them.\n",
    "<br>\n",
    "Bevacizumab & Bevacizumb <br>\n",
    "Daratumumab & Darzalex(Daratumumab) <br>\n",
    "Lorlatinb & Lorlatinib <br>\n",
    "Sorafenib & Sorafennb\n",
    "\n",
    "----------"
   ]
  },
  {
   "cell_type": "markdown",
   "metadata": {},
   "source": [
    "### deal with error and anomaly "
   ]
  },
  {
   "cell_type": "markdown",
   "metadata": {},
   "source": [
    "let's replace errors and anomalies with accurate data or just use NaN. <br>\n",
    "we replace negative age values with NaN. <br>\n",
    "average height of infants is about 19 to 20 in., so we replace all values lower than the average height with NaN. <br>\n",
    "we also handle duplicated medications."
   ]
  },
  {
   "cell_type": "code",
   "execution_count": 16,
   "metadata": {
    "scrolled": true
   },
   "outputs": [],
   "source": [
    "df['new_age'] = np.where(df['age']>=0, df['age'], np.NaN)\n",
    "df['new_ht'] = np.where(df['height(in)']>=20, df['height(in)'], np.NaN)\n",
    "df['new_med'] = np.where(df['medication']=='Bevacizumb', 'Bevacizumab', df['medication'])\n",
    "df['new_med'] = np.where(df['new_med']=='Darzalex(Daratumumab)', 'Daratumumab', df['new_med'])\n",
    "df['new_med'] = np.where(df['new_med']=='Lorlatinb', 'Lorlatinib', df['new_med'])\n",
    "df['new_med'] = np.where(df['new_med']=='Sorafennb', 'Sorafenib', df['new_med'])"
   ]
  },
  {
   "cell_type": "code",
   "execution_count": 17,
   "metadata": {},
   "outputs": [
    {
     "data": {
      "text/html": [
       "<div>\n",
       "<style>\n",
       "    .dataframe thead tr:only-child th {\n",
       "        text-align: right;\n",
       "    }\n",
       "\n",
       "    .dataframe thead th {\n",
       "        text-align: left;\n",
       "    }\n",
       "\n",
       "    .dataframe tbody tr th {\n",
       "        vertical-align: top;\n",
       "    }\n",
       "</style>\n",
       "<table border=\"1\" class=\"dataframe\">\n",
       "  <thead>\n",
       "    <tr style=\"text-align: right;\">\n",
       "      <th></th>\n",
       "      <th>patient_id</th>\n",
       "      <th>age</th>\n",
       "      <th>height(in)</th>\n",
       "      <th>new_age</th>\n",
       "      <th>new_ht</th>\n",
       "    </tr>\n",
       "  </thead>\n",
       "  <tbody>\n",
       "    <tr>\n",
       "      <th>count</th>\n",
       "      <td>10086.000000</td>\n",
       "      <td>10086.000000</td>\n",
       "      <td>10086.000000</td>\n",
       "      <td>10002.000000</td>\n",
       "      <td>7769.000000</td>\n",
       "    </tr>\n",
       "    <tr>\n",
       "      <th>mean</th>\n",
       "      <td>5994.338786</td>\n",
       "      <td>50.074261</td>\n",
       "      <td>42.055126</td>\n",
       "      <td>50.539592</td>\n",
       "      <td>51.602265</td>\n",
       "    </tr>\n",
       "    <tr>\n",
       "      <th>std</th>\n",
       "      <td>2316.591112</td>\n",
       "      <td>29.286063</td>\n",
       "      <td>24.115664</td>\n",
       "      <td>28.962317</td>\n",
       "      <td>18.686251</td>\n",
       "    </tr>\n",
       "    <tr>\n",
       "      <th>min</th>\n",
       "      <td>2002.000000</td>\n",
       "      <td>-10.000000</td>\n",
       "      <td>1.000000</td>\n",
       "      <td>1.000000</td>\n",
       "      <td>20.000000</td>\n",
       "    </tr>\n",
       "    <tr>\n",
       "      <th>25%</th>\n",
       "      <td>3977.000000</td>\n",
       "      <td>24.000000</td>\n",
       "      <td>21.000000</td>\n",
       "      <td>25.000000</td>\n",
       "      <td>35.000000</td>\n",
       "    </tr>\n",
       "    <tr>\n",
       "      <th>50%</th>\n",
       "      <td>5997.000000</td>\n",
       "      <td>51.000000</td>\n",
       "      <td>42.000000</td>\n",
       "      <td>51.000000</td>\n",
       "      <td>51.000000</td>\n",
       "    </tr>\n",
       "    <tr>\n",
       "      <th>75%</th>\n",
       "      <td>7988.000000</td>\n",
       "      <td>75.000000</td>\n",
       "      <td>63.000000</td>\n",
       "      <td>76.000000</td>\n",
       "      <td>68.000000</td>\n",
       "    </tr>\n",
       "    <tr>\n",
       "      <th>max</th>\n",
       "      <td>10000.000000</td>\n",
       "      <td>100.000000</td>\n",
       "      <td>84.000000</td>\n",
       "      <td>100.000000</td>\n",
       "      <td>84.000000</td>\n",
       "    </tr>\n",
       "  </tbody>\n",
       "</table>\n",
       "</div>"
      ],
      "text/plain": [
       "         patient_id           age    height(in)       new_age       new_ht\n",
       "count  10086.000000  10086.000000  10086.000000  10002.000000  7769.000000\n",
       "mean    5994.338786     50.074261     42.055126     50.539592    51.602265\n",
       "std     2316.591112     29.286063     24.115664     28.962317    18.686251\n",
       "min     2002.000000    -10.000000      1.000000      1.000000    20.000000\n",
       "25%     3977.000000     24.000000     21.000000     25.000000    35.000000\n",
       "50%     5997.000000     51.000000     42.000000     51.000000    51.000000\n",
       "75%     7988.000000     75.000000     63.000000     76.000000    68.000000\n",
       "max    10000.000000    100.000000     84.000000    100.000000    84.000000"
      ]
     },
     "execution_count": 17,
     "metadata": {},
     "output_type": "execute_result"
    }
   ],
   "source": [
    "df.describe()"
   ]
  },
  {
   "cell_type": "code",
   "execution_count": 18,
   "metadata": {},
   "outputs": [
    {
     "data": {
      "text/plain": [
       "Acetaminophen       397\n",
       "Aldesleukin         400\n",
       "Alectinib           190\n",
       "Amifostine          404\n",
       "Bevacizumab         404\n",
       "Crizotinib          182\n",
       "Dabrafenib          403\n",
       "Dacarbazine         438\n",
       "Dacogen             375\n",
       "Dacomitinib         362\n",
       "Dactinomycin        396\n",
       "Daratumumab         764\n",
       "Darbepoetin Alfa    385\n",
       "Dasatinib           385\n",
       "Lenvatinib          199\n",
       "Lorlatinib          362\n",
       "Ramucirumab         191\n",
       "Regorafenib         200\n",
       "Sorafenib           379\n",
       "Ziv-aflibercept     173\n",
       "biotin              404\n",
       "cannabis            389\n",
       "codeine             358\n",
       "hydrocodone         403\n",
       "hydromorphone       412\n",
       "morphine            381\n",
       "oxycodone           393\n",
       "riboflavin          357\n",
       "Name: new_med, dtype: int64"
      ]
     },
     "execution_count": 18,
     "metadata": {},
     "output_type": "execute_result"
    }
   ],
   "source": [
    "df['new_med'].value_counts().sort_index()"
   ]
  },
  {
   "cell_type": "markdown",
   "metadata": {},
   "source": [
    "### output cleaned dataset"
   ]
  },
  {
   "cell_type": "code",
   "execution_count": 19,
   "metadata": {
    "scrolled": true
   },
   "outputs": [
    {
     "data": {
      "text/html": [
       "<div>\n",
       "<style>\n",
       "    .dataframe thead tr:only-child th {\n",
       "        text-align: right;\n",
       "    }\n",
       "\n",
       "    .dataframe thead th {\n",
       "        text-align: left;\n",
       "    }\n",
       "\n",
       "    .dataframe tbody tr th {\n",
       "        vertical-align: top;\n",
       "    }\n",
       "</style>\n",
       "<table border=\"1\" class=\"dataframe\">\n",
       "  <thead>\n",
       "    <tr style=\"text-align: right;\">\n",
       "      <th></th>\n",
       "      <th>new_age</th>\n",
       "      <th>new_ht</th>\n",
       "      <th>sex</th>\n",
       "      <th>new_med</th>\n",
       "      <th>cancer_type</th>\n",
       "    </tr>\n",
       "  </thead>\n",
       "  <tbody>\n",
       "    <tr>\n",
       "      <th>0</th>\n",
       "      <td>44.0</td>\n",
       "      <td>NaN</td>\n",
       "      <td>NaN</td>\n",
       "      <td>Dabrafenib</td>\n",
       "      <td>blood</td>\n",
       "    </tr>\n",
       "    <tr>\n",
       "      <th>1</th>\n",
       "      <td>77.0</td>\n",
       "      <td>NaN</td>\n",
       "      <td>NaN</td>\n",
       "      <td>hydrocodone</td>\n",
       "      <td>blood</td>\n",
       "    </tr>\n",
       "    <tr>\n",
       "      <th>2</th>\n",
       "      <td>64.0</td>\n",
       "      <td>42.0</td>\n",
       "      <td>female</td>\n",
       "      <td>oxycodone</td>\n",
       "      <td>brain</td>\n",
       "    </tr>\n",
       "    <tr>\n",
       "      <th>3</th>\n",
       "      <td>57.0</td>\n",
       "      <td>NaN</td>\n",
       "      <td>NaN</td>\n",
       "      <td>Bevacizumab</td>\n",
       "      <td>colon</td>\n",
       "    </tr>\n",
       "    <tr>\n",
       "      <th>4</th>\n",
       "      <td>20.0</td>\n",
       "      <td>NaN</td>\n",
       "      <td>female</td>\n",
       "      <td>Amifostine</td>\n",
       "      <td>cervix</td>\n",
       "    </tr>\n",
       "  </tbody>\n",
       "</table>\n",
       "</div>"
      ],
      "text/plain": [
       "   new_age  new_ht     sex      new_med cancer_type\n",
       "0     44.0     NaN     NaN   Dabrafenib       blood\n",
       "1     77.0     NaN     NaN  hydrocodone       blood\n",
       "2     64.0    42.0  female    oxycodone       brain\n",
       "3     57.0     NaN     NaN  Bevacizumab       colon\n",
       "4     20.0     NaN  female   Amifostine      cervix"
      ]
     },
     "execution_count": 19,
     "metadata": {},
     "output_type": "execute_result"
    }
   ],
   "source": [
    "new_df = df[['new_age', 'new_ht', 'sex', 'new_med', 'cancer_type']]\n",
    "new_df.head()"
   ]
  },
  {
   "cell_type": "code",
   "execution_count": 20,
   "metadata": {},
   "outputs": [
    {
     "data": {
      "text/plain": [
       "new_age          84\n",
       "new_ht         2317\n",
       "sex            3301\n",
       "new_med           0\n",
       "cancer_type       0\n",
       "dtype: int64"
      ]
     },
     "execution_count": 20,
     "metadata": {},
     "output_type": "execute_result"
    }
   ],
   "source": [
    "new_df.isnull().sum()"
   ]
  },
  {
   "cell_type": "code",
   "execution_count": 21,
   "metadata": {},
   "outputs": [],
   "source": [
    "new_df.to_csv('c_df.csv', sep='\\t')"
   ]
  },
  {
   "cell_type": "markdown",
   "metadata": {},
   "source": [
    "## Model Fitting - Classifiction"
   ]
  },
  {
   "cell_type": "markdown",
   "metadata": {},
   "source": [
    "before fitting model, we need to convert categorical variable to one-hot encoding, and normalize values of numaric variables."
   ]
  },
  {
   "cell_type": "code",
   "execution_count": 22,
   "metadata": {},
   "outputs": [],
   "source": [
    "# normalize value to 0~1 by min max\n",
    "df_oh_nor = new_df.copy()\n",
    "df_oh_nor['nor_age'] = (df_oh_nor['new_age'] - df_oh_nor['new_age'].min())/(df_oh_nor['new_age'].max()-df_oh_nor['new_age'].min())\n",
    "df_oh_nor['nor_ht'] = (df_oh_nor['new_ht'] - df_oh_nor['new_ht'].min())/(df_oh_nor['new_ht'].max() - df_oh_nor['new_ht'].min())\n",
    "# one-hot encoding\n",
    "df_oh_nor = pd.get_dummies(df_oh_nor, dummy_na=True)"
   ]
  },
  {
   "cell_type": "markdown",
   "metadata": {},
   "source": [
    "we drop out NaN to get a preliminary result. (NaN can be replaced by stat estimation, which is skipped here.)"
   ]
  },
  {
   "cell_type": "code",
   "execution_count": 23,
   "metadata": {
    "collapsed": true
   },
   "outputs": [],
   "source": [
    "df_pro = df_oh_nor.iloc[:, 2:].dropna()\n",
    "df_pro.to_csv('df_pro.csv', sep='\\t')"
   ]
  },
  {
   "cell_type": "code",
   "execution_count": 24,
   "metadata": {},
   "outputs": [
    {
     "name": "stdout",
     "output_type": "stream",
     "text": [
      "X.shape (7702, 34) \n",
      "y.shape (7702, 20)\n"
     ]
    }
   ],
   "source": [
    "X = df_pro.iloc[:, :-21]\n",
    "y = df_pro.iloc[:, -20:]  \n",
    "print('X.shape', X.shape, '\\ny.shape', y.shape)"
   ]
  },
  {
   "cell_type": "code",
   "execution_count": 25,
   "metadata": {},
   "outputs": [
    {
     "name": "stdout",
     "output_type": "stream",
     "text": [
      "X_train.shape (6161, 34) X_test.shape (1541, 34) \n",
      "y_train.shape (6161, 20) y_test.shape (1541, 20)\n"
     ]
    }
   ],
   "source": [
    "X_train, X_test, y_train, y_test = train_test_split(X, y, test_size = 0.20) \n",
    "print('X_train.shape', X_train.shape, 'X_test.shape', X_test.shape, \\\n",
    "      '\\ny_train.shape', y_train.shape, 'y_test.shape', y_test.shape)"
   ]
  },
  {
   "cell_type": "markdown",
   "metadata": {},
   "source": [
    "### Neural Network"
   ]
  },
  {
   "cell_type": "markdown",
   "metadata": {},
   "source": [
    "### prepare nn structure"
   ]
  },
  {
   "cell_type": "code",
   "execution_count": 26,
   "metadata": {},
   "outputs": [
    {
     "name": "stdout",
     "output_type": "stream",
     "text": [
      "\n",
      "WARNING: The TensorFlow contrib module will not be included in TensorFlow 2.0.\n",
      "For more information, please see:\n",
      "  * https://github.com/tensorflow/community/blob/master/rfcs/20180907-contrib-sunset.md\n",
      "  * https://github.com/tensorflow/addons\n",
      "If you depend on functionality not listed there, please file an issue.\n",
      "\n",
      "WARNING:tensorflow:From <ipython-input-26-be5d292e7b39>:11: dense (from tensorflow.python.layers.core) is deprecated and will be removed in a future version.\n",
      "Instructions for updating:\n",
      "Use keras.layers.dense instead.\n",
      "WARNING:tensorflow:From /Users/littletree/anaconda3/envs/py36/lib/python3.6/site-packages/tensorflow/python/framework/op_def_library.py:263: colocate_with (from tensorflow.python.framework.ops) is deprecated and will be removed in a future version.\n",
      "Instructions for updating:\n",
      "Colocations handled automatically by placer.\n",
      "WARNING:tensorflow:From <ipython-input-26-be5d292e7b39>:14: dropout (from tensorflow.python.layers.core) is deprecated and will be removed in a future version.\n",
      "Instructions for updating:\n",
      "Use keras.layers.dropout instead.\n",
      "WARNING:tensorflow:From /Users/littletree/anaconda3/envs/py36/lib/python3.6/site-packages/tensorflow/python/keras/layers/core.py:143: calling dropout (from tensorflow.python.ops.nn_ops) with keep_prob is deprecated and will be removed in a future version.\n",
      "Instructions for updating:\n",
      "Please use `rate` instead of `keep_prob`. Rate should be set to `rate = 1 - keep_prob`.\n",
      "WARNING:tensorflow:From /Users/littletree/anaconda3/envs/py36/lib/python3.6/site-packages/tensorflow/python/ops/math_ops.py:3066: to_int32 (from tensorflow.python.ops.math_ops) is deprecated and will be removed in a future version.\n",
      "Instructions for updating:\n",
      "Use tf.cast instead.\n"
     ]
    }
   ],
   "source": [
    "# Build NN\n",
    "LEARNING_RATE = 0.0001\n",
    "\n",
    "is_training = True\n",
    "\n",
    "initializer = tf.contrib.layers.variance_scaling_initializer()\n",
    "\n",
    "x = tf.placeholder(tf.float32, [None, 34])\n",
    "y_ = tf.placeholder(tf.float32, [None, 20])\n",
    "\n",
    "l1 = tf.layers.dense(x, units=128,  activation=tf.nn.relu, kernel_initializer=initializer)\n",
    "l2 = tf.layers.dense(l1, units=128, activation=tf.nn.relu, kernel_initializer=initializer)\n",
    "l3 = tf.contrib.layers.layer_norm(l2)\n",
    "l4 = tf.layers.dropout(l3, rate=0.2, training=is_training)\n",
    "l5 = tf.layers.dense(l4, units=128,  activation=tf.nn.relu, kernel_initializer=initializer)\n",
    "l6 = tf.contrib.layers.layer_norm(l5)\n",
    "l7 = tf.layers.dense(l6, units=128,  activation=tf.nn.relu, kernel_initializer=initializer)\n",
    "l8 = tf.contrib.layers.layer_norm(l7)\n",
    "l9 = tf.layers.dense(l8, units=20,  activation=tf.nn.relu, kernel_initializer=initializer)\n",
    "y = tf.nn.softmax(l9, name='y')\n",
    "\n",
    "loss = tf.reduce_mean(tf.nn.softmax_cross_entropy_with_logits_v2(labels=y_, logits=y))\n",
    "train_step = tf.train.AdamOptimizer(LEARNING_RATE).minimize(loss)\n",
    "\n",
    "correct_prediction = tf.equal(tf.argmax(y, 1), tf.argmax(y_, 1))\n",
    "accuracy = tf.reduce_mean(tf.cast(correct_prediction, tf.float32))\n",
    "\n",
    "sess=tf.Session()\n",
    "tf.global_variables_initializer().run(session=sess)"
   ]
  },
  {
   "cell_type": "markdown",
   "metadata": {},
   "source": [
    "### train and predcit"
   ]
  },
  {
   "cell_type": "code",
   "execution_count": 27,
   "metadata": {},
   "outputs": [],
   "source": [
    "BATCH_SIZE = 256\n",
    "\n",
    "# mini-batch data\n",
    "train_data = tf.data.Dataset.from_tensor_slices(tf.constant(X_train))\n",
    "label_data = tf.data.Dataset.from_tensor_slices(tf.constant(y_train))\n",
    "zip_data = tf.data.Dataset.zip((train_data, label_data))\n",
    "\n",
    "batch_data = zip_data.batch(BATCH_SIZE)\n",
    "batch_data = batch_data.repeat()\n",
    "iterator = batch_data.make_one_shot_iterator()\n",
    "next_batch = iterator.get_next()"
   ]
  },
  {
   "cell_type": "code",
   "execution_count": 28,
   "metadata": {},
   "outputs": [
    {
     "name": "stdout",
     "output_type": "stream",
     "text": [
      "Training Step:0  Loss =  3.0029552 Accuracy : 0.046722908\n",
      "Training Step:2000  Loss =  2.7116055 Accuracy : 0.3127839\n",
      "Training Step:4000  Loss =  2.689166 Accuracy : 0.31992212\n",
      "Training Step:6000  Loss =  2.6757872 Accuracy : 0.32900715\n",
      "Training Step:8000  Loss =  2.6649878 Accuracy : 0.32251784\n",
      "Training Step:10000  Loss =  2.6481757 Accuracy : 0.32706034\n",
      "Training Step:12000  Loss =  2.639464 Accuracy : 0.32511356\n",
      "Training Step:14000  Loss =  2.6187522 Accuracy : 0.31602857\n",
      "Training Step:16000  Loss =  2.6161046 Accuracy : 0.32186893\n",
      "Training Step:18000  Loss =  2.6227453 Accuracy : 0.32576248\n",
      "Training Step:20000  Loss =  2.6189313 Accuracy : 0.3173264\n",
      "Training Step:22000  Loss =  2.6098108 Accuracy : 0.32121998\n",
      "Training Step:24000  Loss =  2.6045227 Accuracy : 0.32446462\n",
      "Training Step:26000  Loss =  2.61019 Accuracy : 0.3192732\n",
      "Training Step:28000  Loss =  2.5929325 Accuracy : 0.32251784\n",
      "Training Step:30000  Loss =  2.6042776 Accuracy : 0.31862426\n",
      "Training Step:32000  Loss =  2.5883124 Accuracy : 0.31797534\n",
      "Training Step:34000  Loss =  2.5815957 Accuracy : 0.32121998\n",
      "Training Step:36000  Loss =  2.59068 Accuracy : 0.31602857\n",
      "Training Step:38000  Loss =  2.5749593 Accuracy : 0.3192732\n",
      "Training Step:40000  Loss =  2.5834532 Accuracy : 0.3192732\n"
     ]
    }
   ],
   "source": [
    "# Training\n",
    "\n",
    "train_steps = 40000\n",
    "\n",
    "for i in range(train_steps+1):\n",
    "    batch = sess.run(next_batch)\n",
    "    _, loss_value = sess.run((train_step, loss), feed_dict={x: batch[0], y_: batch[1]})\n",
    "    if i% 2000 == 0:\n",
    "        acc = sess.run(accuracy, feed_dict={x: X_test, y_: y_test})\n",
    "        print('Training Step:' + str(i) + '  Loss =  ' + str(loss_value) + ' Accuracy : ' + str(acc))"
   ]
  },
  {
   "cell_type": "markdown",
   "metadata": {},
   "source": [
    "the accuracy is about 0.3, higher than baselin (guessing). however, the result is not satisfying, we can improve it by dealing with NaN, increasing sample size, etc."
   ]
  },
  {
   "cell_type": "code",
   "execution_count": null,
   "metadata": {
    "collapsed": true
   },
   "outputs": [],
   "source": []
  }
 ],
 "metadata": {
  "kernelspec": {
   "display_name": "Python 3",
   "language": "python",
   "name": "python3"
  },
  "language_info": {
   "codemirror_mode": {
    "name": "ipython",
    "version": 3
   },
   "file_extension": ".py",
   "mimetype": "text/x-python",
   "name": "python",
   "nbconvert_exporter": "python",
   "pygments_lexer": "ipython3",
   "version": "3.6.3"
  }
 },
 "nbformat": 4,
 "nbformat_minor": 2
}
