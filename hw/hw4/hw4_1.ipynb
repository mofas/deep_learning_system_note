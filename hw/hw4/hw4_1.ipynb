{
 "cells": [
  {
   "cell_type": "code",
   "execution_count": 200,
   "metadata": {},
   "outputs": [],
   "source": [
    "import matplotlib.pyplot as plt\n",
    "import numpy as np\n",
    "import tensorflow as tf\n",
    "import math\n",
    "import pickle\n",
    "import librosa\n",
    "\n",
    "%matplotlib inline"
   ]
  },
  {
   "cell_type": "code",
   "execution_count": 201,
   "metadata": {},
   "outputs": [],
   "source": [
    "# Load data\n",
    "with open('hw4_trs.pkl', 'rb') as f:\n",
    "    train_data_input = pickle.load(f)\n",
    "\n",
    "with open('hw4_tes.pkl', 'rb') as f:\n",
    "    test_data_input = pickle.load(f)\n"
   ]
  },
  {
   "cell_type": "code",
   "execution_count": 202,
   "metadata": {
    "scrolled": false
   },
   "outputs": [
    {
     "name": "stdout",
     "output_type": "stream",
     "text": [
      "(500, 16180)\n",
      "(200, 22631)\n"
     ]
    }
   ],
   "source": [
    "print(train_data_input.shape)\n",
    "print(test_data_input.shape)"
   ]
  },
  {
   "cell_type": "code",
   "execution_count": 203,
   "metadata": {
    "scrolled": true
   },
   "outputs": [],
   "source": [
    "# get positive pair\n",
    "positive_pair = np.zeros((0, 2), dtype=int)\n",
    "for i in range(0, 500, 10):\n",
    "    for j in range(i, i+10):\n",
    "        for k in range(j+1, i+10):\n",
    "            positive_pair = np.vstack((positive_pair, np.array([j, k], dtype=int)))\n",
    "\n",
    "# print(positive_pair[0])\n",
    "# print(positive_pair[1])"
   ]
  },
  {
   "cell_type": "code",
   "execution_count": 204,
   "metadata": {},
   "outputs": [
    {
     "name": "stdout",
     "output_type": "stream",
     "text": [
      "(2250, 2)\n"
     ]
    }
   ],
   "source": [
    "print(positive_pair.shape)"
   ]
  },
  {
   "cell_type": "code",
   "execution_count": 205,
   "metadata": {},
   "outputs": [],
   "source": [
    "# get negative pair\n",
    "negative_pair = np.zeros((0, 2), dtype=int)\n",
    "\n",
    "for i in range(0, 500, 10):\n",
    "    current = list(range(i, i+10))\n",
    "    others = [ x for x in list(range(500)) if x not in current ]\n",
    "    # generate 45 negative sample per speaker\n",
    "    for j in range(45):\n",
    "        p1 = np.random.choice(current)\n",
    "        p2 = np.random.choice(others)        \n",
    "        negative_pair = np.vstack((negative_pair, np.array([p1, p2], dtype=int)))\n",
    "\n"
   ]
  },
  {
   "cell_type": "code",
   "execution_count": 206,
   "metadata": {},
   "outputs": [
    {
     "name": "stdout",
     "output_type": "stream",
     "text": [
      "(2250, 2)\n"
     ]
    }
   ],
   "source": [
    "print(negative_pair.shape)"
   ]
  },
  {
   "cell_type": "code",
   "execution_count": 207,
   "metadata": {},
   "outputs": [],
   "source": [
    "# build data\n",
    "positive_label = np.ones(45*50)\n",
    "negative_label = np.zeros(45*50)"
   ]
  },
  {
   "cell_type": "code",
   "execution_count": 304,
   "metadata": {},
   "outputs": [],
   "source": [
    "# Training Parameters\n",
    "learning_rate = 0.001\n",
    "batch_size = 32\n",
    "\n",
    "# Hyper Parameter\n",
    "time_steps = 10   #\n",
    "num_input =  1618 # \n",
    "num_hidden = 128  # hidden layer num of features\n",
    "num_feature = 128\n",
    "keep_prob = 0.8\n"
   ]
  },
  {
   "cell_type": "code",
   "execution_count": 330,
   "metadata": {},
   "outputs": [],
   "source": [
    "tf.reset_default_graph()\n",
    "\n",
    "# Create batch data for training\n",
    "train_data = tf.data.Dataset.from_tensor_slices(tf.constant(np.concatenate((negative_pair, positive_pair))))\n",
    "label_data = tf.data.Dataset.from_tensor_slices(tf.constant(np.concatenate((negative_label, positive_label))))\n",
    "batch_data = tf.data.Dataset.zip((train_data, label_data)).shuffle(10**7, reshuffle_each_iteration=True)\n",
    "batch_data = batch_data.repeat().batch(batch_size)\n",
    "\n",
    "iterator = batch_data.make_one_shot_iterator()\n",
    "next_batch = iterator.get_next()"
   ]
  },
  {
   "cell_type": "code",
   "execution_count": 331,
   "metadata": {},
   "outputs": [],
   "source": [
    "with tf.variable_scope(\"rnn_model\", reuse=tf.AUTO_REUSE):\n",
    "    X1 = tf.placeholder(\"float\", [None, time_steps, num_input])\n",
    "    X2 = tf.placeholder(\"float\", [None, time_steps, num_input])\n",
    "    Y = tf.placeholder(\"float\", [None, 1])\n",
    "    weight = tf.Variable(tf.random_normal([time_steps*num_hidden, num_feature]))\n",
    "    bias = tf.Variable(tf.random_normal([num_feature]))"
   ]
  },
  {
   "cell_type": "code",
   "execution_count": 332,
   "metadata": {},
   "outputs": [],
   "source": [
    "with tf.variable_scope(\"rnn_model\", reuse=tf.AUTO_REUSE):\n",
    "    # Define a lstm cell with tensorflow\n",
    "    cell1 = tf.contrib.rnn.DropoutWrapper(tf.contrib.cudnn_rnn.CudnnCompatibleLSTMCell(num_hidden), output_keep_prob=keep_prob)\n",
    "    cell2 = tf.contrib.rnn.DropoutWrapper(tf.contrib.cudnn_rnn.CudnnCompatibleLSTMCell(num_hidden), output_keep_prob=keep_prob)\n",
    "    cell3 = tf.contrib.rnn.DropoutWrapper(tf.contrib.cudnn_rnn.CudnnCompatibleLSTMCell(num_hidden), output_keep_prob=keep_prob)\n",
    "    cell = tf.nn.rnn_cell.MultiRNNCell([cell1, cell2, cell3])            \n"
   ]
  },
  {
   "cell_type": "code",
   "execution_count": 340,
   "metadata": {},
   "outputs": [
    {
     "name": "stdout",
     "output_type": "stream",
     "text": [
      "(?, 128)\n",
      "(?, 128)\n",
      "(?, 1) (?, 1)\n"
     ]
    }
   ],
   "source": [
    "# Calculate loss, train_op\n",
    "with tf.variable_scope(\"rnn_model\", reuse=tf.AUTO_REUSE):\n",
    "    outputs1, _ = tf.nn.dynamic_rnn(cell, X1, dtype=tf.float32)  \n",
    "    Y1 = tf.matmul(tf.reshape(outputs1, (-1, time_steps*num_hidden)), weight) + bias\n",
    "    \n",
    "    outputs2, _ = tf.nn.dynamic_rnn(cell, X2, dtype=tf.float32)  \n",
    "    Y2 = tf.matmul(tf.reshape(outputs2, (-1, time_steps*num_hidden)), weight) + bias    \n",
    "    print(Y1.shape)\n",
    "    print(Y2.shape)\n",
    "    Y_pred = tf.sigmoid(tf.reduce_sum( tf.multiply( Y1, Y2 ), 1, keepdims=True))\n",
    "    print(Y_pred.shape, Y.shape)\n",
    "    \n",
    "    loss = tf.reduce_mean( -Y*tf.log(Y_pred + 10e-6) - (1 - Y) * tf.log(1 - Y_pred + 10e-6))\n",
    "        \n",
    "    correct_prediction = tf.equal(Y_pred, Y)\n",
    "    accuracy = tf.reduce_mean(tf.cast(correct_prediction, tf.float32))\n",
    "\n",
    "    train_op = tf.train.AdamOptimizer(learning_rate).minimize(loss)"
   ]
  },
  {
   "cell_type": "code",
   "execution_count": 341,
   "metadata": {},
   "outputs": [],
   "source": [
    "# Initial session\n",
    "sess=tf.Session()\n",
    "tf.global_variables_initializer().run(session=sess)\n"
   ]
  },
  {
   "cell_type": "code",
   "execution_count": 344,
   "metadata": {},
   "outputs": [
    {
     "name": "stdout",
     "output_type": "stream",
     "text": [
      "Training Step:0 Train Loss = 5.756458 Accuracy = 0.5\n",
      "Training Step:200 Train Loss = 5.756458 Accuracy = 0.5\n",
      "Training Step:400 Train Loss = 8.634691 Accuracy = 0.25\n",
      "Training Step:600 Train Loss = 2.8782241 Accuracy = 0.75\n",
      "Training Step:800 Train Loss = 8.634691 Accuracy = 0.25\n",
      "Training Step:1000 Train Loss = 5.756458 Accuracy = 0.5\n",
      "Training Step:1200 Train Loss = 2.878224 Accuracy = 0.75\n",
      "Training Step:1400 Train Loss = 2.878224 Accuracy = 0.75\n",
      "Training Step:1600 Train Loss = 2.8782241 Accuracy = 0.75\n",
      "Training Step:1800 Train Loss = 8.634691 Accuracy = 0.25\n",
      "Training Step:2000 Train Loss = 8.634691 Accuracy = 0.25\n",
      "Training Step:2200 Train Loss = 8.634691 Accuracy = 0.25\n",
      "Training Step:2400 Train Loss = 8.634691 Accuracy = 0.25\n",
      "Training Step:2600 Train Loss = 8.634691 Accuracy = 0.25\n",
      "Training Step:2800 Train Loss = 5.756458 Accuracy = 0.5\n",
      "Training Step:3000 Train Loss = 2.8782241 Accuracy = 0.75\n"
     ]
    }
   ],
   "source": [
    "# Training\n",
    "training_steps = 3000\n",
    "for i in range(training_steps+1):\n",
    "    (batch_x, batch_y) = sess.run(next_batch)\n",
    "    #     print(batch_x, batch_y)\n",
    "    # get data \n",
    "    input_x1 = np.array([train_data_input[x[0]] for x in batch_x]).reshape(-1, time_steps, num_input)\n",
    "    input_x2 = np.array([train_data_input[x[1]] for x in batch_x]).reshape(-1, time_steps, num_input)\n",
    "    input_y = batch_y.reshape(-1, 1)    \n",
    "#     print(sess.run((loss), feed_dict={X1: input_x1, X2: input_x2, Y: input_y}))\n",
    "    _, loss_value, acc_value = sess.run((train_op, loss, accuracy), feed_dict={X1: input_x1, X2: input_x2, Y: input_y})\n",
    "    if i % 200 == 0:\n",
    "        print('Training Step:' + str(i) + ' Train Loss = ' + str(loss_value) + ' Accuracy = ' + str(acc_value))\n",
    "#         print('Training Step:' + str(i) + '  Validation Loss =  ' + \n",
    "#               str(sess.run(loss, feed_dict={X: v_mixture_abs_T_fit.reshape(-1, time_steps, num_input), Y: v_M_fit})) + \n",
    "#               '  Train Loss =  ' + str(loss_value))"
   ]
  },
  {
   "cell_type": "code",
   "execution_count": null,
   "metadata": {},
   "outputs": [],
   "source": []
  }
 ],
 "metadata": {
  "kernelspec": {
   "display_name": "Python 3",
   "language": "python",
   "name": "python3"
  },
  "language_info": {
   "codemirror_mode": {
    "name": "ipython",
    "version": 3
   },
   "file_extension": ".py",
   "mimetype": "text/x-python",
   "name": "python",
   "nbconvert_exporter": "python",
   "pygments_lexer": "ipython3",
   "version": "3.6.3"
  }
 },
 "nbformat": 4,
 "nbformat_minor": 2
}
