{
 "cells": [
  {
   "cell_type": "code",
   "execution_count": 1,
   "metadata": {},
   "outputs": [],
   "source": [
    "import matplotlib.pyplot as plt\n",
    "import numpy as np\n",
    "import tensorflow as tf\n",
    "import math\n",
    "import pickle\n",
    "import librosa\n",
    "\n",
    "%matplotlib inline"
   ]
  },
  {
   "cell_type": "code",
   "execution_count": 2,
   "metadata": {},
   "outputs": [],
   "source": [
    "# Load data\n",
    "with open('hw4_trs.pkl', 'rb') as f:\n",
    "    train_data_input = pickle.load(f)\n",
    "\n",
    "with open('hw4_tes.pkl', 'rb') as f:\n",
    "    test_data_input = pickle.load(f)\n"
   ]
  },
  {
   "cell_type": "code",
   "execution_count": 3,
   "metadata": {
    "scrolled": false
   },
   "outputs": [
    {
     "name": "stdout",
     "output_type": "stream",
     "text": [
      "(500, 16180)\n",
      "(200, 22631)\n"
     ]
    }
   ],
   "source": [
    "print(train_data_input.shape)\n",
    "print(test_data_input.shape)"
   ]
  },
  {
   "cell_type": "code",
   "execution_count": 4,
   "metadata": {},
   "outputs": [
    {
     "name": "stdout",
     "output_type": "stream",
     "text": [
      "(200, 16180)\n"
     ]
    }
   ],
   "source": [
    "# turncate test_data\n",
    "test_data_input = test_data_input[:,:16180]\n",
    "print(test_data_input.shape)"
   ]
  },
  {
   "cell_type": "code",
   "execution_count": 5,
   "metadata": {},
   "outputs": [],
   "source": [
    "def generate_pair(data_size):\n",
    "    # get positive pair\n",
    "    positive_pair = np.zeros((0, 2), dtype=int)\n",
    "    for i in range(0, data_size, 10):\n",
    "        for j in range(i, i+10):\n",
    "            for k in range(j+1, i+10):\n",
    "                positive_pair = np.vstack((positive_pair, np.array([j, k], dtype=int)))\n",
    "    \n",
    "    # get negative pair\n",
    "    negative_pair = np.zeros((0, 2), dtype=int)\n",
    "    for i in range(0, data_size, 10):\n",
    "        current = list(range(i, i+10))\n",
    "        others = [ x for x in list(range(data_size)) if x not in current ]\n",
    "        # generate 45 negative sample per speaker\n",
    "        for j in range(45):\n",
    "            p1 = np.random.choice(current)\n",
    "            p2 = np.random.choice(others)        \n",
    "            negative_pair = np.vstack((negative_pair, np.array([p1, p2], dtype=int)))\n",
    "    return np.concatenate((negative_pair, positive_pair))"
   ]
  },
  {
   "cell_type": "code",
   "execution_count": 6,
   "metadata": {},
   "outputs": [
    {
     "name": "stdout",
     "output_type": "stream",
     "text": [
      "(4500, 2) (1800, 2)\n"
     ]
    }
   ],
   "source": [
    "train_pair = generate_pair(500)\n",
    "test_pair = generate_pair(200)\n",
    "print(train_pair.shape, test_pair.shape)"
   ]
  },
  {
   "cell_type": "code",
   "execution_count": 7,
   "metadata": {},
   "outputs": [],
   "source": [
    "def generate_label(n):\n",
    "    # build data label\n",
    "    positive_label = np.ones(45*n)\n",
    "    negative_label = np.zeros(45*n)\n",
    "    return np.concatenate((negative_label, positive_label))    "
   ]
  },
  {
   "cell_type": "code",
   "execution_count": 8,
   "metadata": {},
   "outputs": [
    {
     "name": "stdout",
     "output_type": "stream",
     "text": [
      "(4500,) (1800,)\n"
     ]
    }
   ],
   "source": [
    "train_label = generate_label(50)\n",
    "test_label = generate_label(20)\n",
    "print(train_label.shape, test_label.shape)"
   ]
  },
  {
   "cell_type": "code",
   "execution_count": 9,
   "metadata": {},
   "outputs": [],
   "source": [
    "# Training Parameters\n",
    "learning_rate = 0.001\n",
    "batch_size = 64\n",
    "\n",
    "# Hyper Parameter\n",
    "time_steps = 10   #\n",
    "num_input =  1618 # \n",
    "num_hidden = 128  # hidden layer num of features\n",
    "num_feature = 128\n",
    "keep_prob = 0.8\n"
   ]
  },
  {
   "cell_type": "code",
   "execution_count": 10,
   "metadata": {},
   "outputs": [
    {
     "name": "stdout",
     "output_type": "stream",
     "text": [
      "(1800, 10, 1618) (1800, 1)\n"
     ]
    }
   ],
   "source": [
    "# create test data pair\n",
    "test_input_x1 = np.array([test_data_input[x[0]] for x in test_pair]).reshape(-1, time_steps, num_input)\n",
    "test_input_x2 = np.array([test_data_input[x[1]] for x in test_pair]).reshape(-1, time_steps, num_input)\n",
    "test_input_y = test_label.reshape(-1, 1)    \n",
    "\n",
    "print(test_input_x1.shape, test_input_y.shape)"
   ]
  },
  {
   "cell_type": "code",
   "execution_count": 11,
   "metadata": {},
   "outputs": [],
   "source": [
    "tf.reset_default_graph()\n",
    "\n",
    "# Create batch data for training\n",
    "train_data = tf.data.Dataset.from_tensor_slices(tf.constant(train_pair))\n",
    "label_data = tf.data.Dataset.from_tensor_slices(tf.constant(train_label))\n",
    "batch_data = tf.data.Dataset.zip((train_data, label_data)).shuffle(10**7, reshuffle_each_iteration=True)\n",
    "batch_data = batch_data.repeat().batch(batch_size)\n",
    "\n",
    "iterator = batch_data.make_one_shot_iterator()\n",
    "next_batch = iterator.get_next()"
   ]
  },
  {
   "cell_type": "code",
   "execution_count": 12,
   "metadata": {},
   "outputs": [],
   "source": [
    "with tf.variable_scope(\"rnn_model\", reuse=tf.AUTO_REUSE):\n",
    "    X1 = tf.placeholder(\"float\", [None, time_steps, num_input])\n",
    "    X2 = tf.placeholder(\"float\", [None, time_steps, num_input])\n",
    "    Y = tf.placeholder(\"float\", [None, 1])\n",
    "    weight = tf.Variable(tf.random_normal([time_steps*num_hidden, num_feature]))\n",
    "    bias = tf.Variable(tf.random_normal([num_feature]))"
   ]
  },
  {
   "cell_type": "code",
   "execution_count": 13,
   "metadata": {},
   "outputs": [],
   "source": [
    "with tf.variable_scope(\"rnn_model\", reuse=tf.AUTO_REUSE):\n",
    "    # Define a lstm cell with tensorflow\n",
    "    cell1 = tf.contrib.rnn.DropoutWrapper(tf.contrib.cudnn_rnn.CudnnCompatibleLSTMCell(num_hidden), output_keep_prob=keep_prob)\n",
    "    cell2 = tf.contrib.rnn.DropoutWrapper(tf.contrib.cudnn_rnn.CudnnCompatibleLSTMCell(num_hidden), output_keep_prob=keep_prob)\n",
    "    cell3 = tf.contrib.rnn.DropoutWrapper(tf.contrib.cudnn_rnn.CudnnCompatibleLSTMCell(num_hidden), output_keep_prob=keep_prob)\n",
    "    cell = tf.nn.rnn_cell.MultiRNNCell([cell1, cell2, cell3])            \n"
   ]
  },
  {
   "cell_type": "code",
   "execution_count": 14,
   "metadata": {},
   "outputs": [
    {
     "name": "stdout",
     "output_type": "stream",
     "text": [
      "(?, 128)\n",
      "(?, 128)\n",
      "(?, 1) (?, 1)\n"
     ]
    }
   ],
   "source": [
    "# Calculate loss, train_op\n",
    "with tf.variable_scope(\"rnn_model\", reuse=tf.AUTO_REUSE):\n",
    "    outputs1, _ = tf.nn.dynamic_rnn(cell, X1, dtype=tf.float32)  \n",
    "    Y1 = tf.matmul(tf.reshape(outputs1, (-1, time_steps*num_hidden)), weight) + bias\n",
    "    \n",
    "    outputs2, _ = tf.nn.dynamic_rnn(cell, X2, dtype=tf.float32)  \n",
    "    Y2 = tf.matmul(tf.reshape(outputs2, (-1, time_steps*num_hidden)), weight) + bias    \n",
    "    print(Y1.shape)\n",
    "    print(Y2.shape)\n",
    "    Y_pred = tf.sigmoid(tf.reduce_sum( tf.multiply( Y1, Y2 ), 1, keepdims=True))\n",
    "    print(Y_pred.shape, Y.shape)\n",
    "    \n",
    "    loss = tf.reduce_mean( -Y*tf.log(Y_pred + 10e-6) - (1 - Y) * tf.log(1 - Y_pred + 10e-6))\n",
    "        \n",
    "    correct_prediction = tf.equal(Y_pred, Y)\n",
    "    accuracy = tf.reduce_mean(tf.cast(correct_prediction, tf.float32))\n",
    "\n",
    "    train_op = tf.train.AdamOptimizer(learning_rate).minimize(loss)"
   ]
  },
  {
   "cell_type": "code",
   "execution_count": 15,
   "metadata": {},
   "outputs": [],
   "source": [
    "# Initial session\n",
    "sess=tf.Session()\n",
    "tf.global_variables_initializer().run(session=sess)"
   ]
  },
  {
   "cell_type": "code",
   "execution_count": 18,
   "metadata": {},
   "outputs": [
    {
     "name": "stdout",
     "output_type": "stream",
     "text": [
      "Training Step:0 Train Loss = 5.036899 Train Accuracy = 0.5625 Test Accuracy = 0.5\n",
      "Training Step:200 Train Loss = 5.396678 Train Accuracy = 0.53125 Test Accuracy = 0.5\n",
      "Training Step:400 Train Loss = 5.036899 Train Accuracy = 0.5625 Test Accuracy = 0.5\n",
      "Training Step:600 Train Loss = 6.1162367 Train Accuracy = 0.46875 Test Accuracy = 0.5\n",
      "Training Step:800 Train Loss = 5.0368986 Train Accuracy = 0.5625 Test Accuracy = 0.5\n",
      "Training Step:1000 Train Loss = 5.5765676 Train Accuracy = 0.515625 Test Accuracy = 0.5\n"
     ]
    }
   ],
   "source": [
    "# Training\n",
    "training_steps = 1000\n",
    "for i in range(training_steps+1):\n",
    "    (batch_x, batch_y) = sess.run(next_batch)\n",
    "    #     print(batch_x, batch_y)\n",
    "    # get data \n",
    "    input_x1 = np.array([train_data_input[x[0]] for x in batch_x]).reshape(-1, time_steps, num_input)\n",
    "    input_x2 = np.array([train_data_input[x[1]] for x in batch_x]).reshape(-1, time_steps, num_input)\n",
    "    input_y = batch_y.reshape(-1, 1)    \n",
    "    _, loss_value, acc_value = sess.run((train_op, loss, accuracy), feed_dict={X1: input_x1, X2: input_x2, Y: input_y})\n",
    "    if i % 200 == 0:\n",
    "        print('Training Step:' + str(i) + ' Train Loss = ' + str(loss_value) + \n",
    "              ' Train Accuracy = ' + str(acc_value) + \n",
    "              ' Test Accuracy = ' + str(sess.run(accuracy, feed_dict={X1: test_input_x1, X2: test_input_x2, Y: test_input_y})))\n",
    "        \n",
    " \n",
    "        "
   ]
  },
  {
   "cell_type": "code",
   "execution_count": null,
   "metadata": {},
   "outputs": [],
   "source": []
  }
 ],
 "metadata": {
  "kernelspec": {
   "display_name": "Python 3",
   "language": "python",
   "name": "python3"
  },
  "language_info": {
   "codemirror_mode": {
    "name": "ipython",
    "version": 3
   },
   "file_extension": ".py",
   "mimetype": "text/x-python",
   "name": "python",
   "nbconvert_exporter": "python",
   "pygments_lexer": "ipython3",
   "version": "3.6.3"
  }
 },
 "nbformat": 4,
 "nbformat_minor": 2
}
