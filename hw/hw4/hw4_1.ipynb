{
 "cells": [
  {
   "cell_type": "code",
   "execution_count": 33,
   "metadata": {},
   "outputs": [],
   "source": [
    "import matplotlib.pyplot as plt\n",
    "import numpy as np\n",
    "import tensorflow as tf\n",
    "import math\n",
    "import pickle\n",
    "import librosa\n",
    "\n",
    "%matplotlib inline"
   ]
  },
  {
   "cell_type": "code",
   "execution_count": 57,
   "metadata": {},
   "outputs": [],
   "source": [
    "# Load data\n",
    "with open('hw4_trs.pkl', 'rb') as f:\n",
    "    train_data_raw = pickle.load(f)\n",
    "\n",
    "with open('hw4_tes.pkl', 'rb') as f:\n",
    "    test_data_raw = pickle.load(f)\n"
   ]
  },
  {
   "cell_type": "code",
   "execution_count": 58,
   "metadata": {
    "scrolled": true
   },
   "outputs": [
    {
     "name": "stdout",
     "output_type": "stream",
     "text": [
      "(500, 16180)\n",
      "(200, 22631)\n"
     ]
    }
   ],
   "source": [
    "print(train_data_raw.shape)\n",
    "print(test_data_raw.shape)"
   ]
  },
  {
   "cell_type": "code",
   "execution_count": 59,
   "metadata": {},
   "outputs": [],
   "source": [
    "train_data_input = np.array([np.abs(librosa.stft(row, n_fft=1024, hop_length=512)) for row in train_data_raw])"
   ]
  },
  {
   "cell_type": "code",
   "execution_count": 60,
   "metadata": {},
   "outputs": [
    {
     "name": "stdout",
     "output_type": "stream",
     "text": [
      "(500, 513, 32)\n"
     ]
    }
   ],
   "source": [
    "print(train_data_input.shape)"
   ]
  },
  {
   "cell_type": "code",
   "execution_count": 47,
   "metadata": {},
   "outputs": [],
   "source": [
    "# turncate test_data\n",
    "test_data_input = np.array([np.abs(librosa.stft(row, n_fft=1024, hop_length=512)) for row in test_data_raw[:,0:16180]])\n"
   ]
  },
  {
   "cell_type": "code",
   "execution_count": 48,
   "metadata": {},
   "outputs": [
    {
     "name": "stdout",
     "output_type": "stream",
     "text": [
      "(200, 513, 32)\n"
     ]
    }
   ],
   "source": [
    "print(test_data_input.shape)"
   ]
  },
  {
   "cell_type": "code",
   "execution_count": 5,
   "metadata": {},
   "outputs": [],
   "source": [
    "def generate_pair(data_size):\n",
    "    # get positive pair\n",
    "    positive_pair = np.zeros((0, 2), dtype=int)\n",
    "    for i in range(0, data_size, 10):\n",
    "        for j in range(i, i+10):\n",
    "            for k in range(j+1, i+10):\n",
    "                positive_pair = np.vstack((positive_pair, np.array([j, k], dtype=int)))\n",
    "    \n",
    "    # get negative pair\n",
    "    negative_pair = np.zeros((0, 2), dtype=int)\n",
    "    for i in range(0, data_size, 10):\n",
    "        current = list(range(i, i+10))\n",
    "        others = [ x for x in list(range(data_size)) if x not in current ]\n",
    "        # generate 45 negative sample per speaker\n",
    "        for j in range(45):\n",
    "            p1 = np.random.choice(current)\n",
    "            p2 = np.random.choice(others)        \n",
    "            negative_pair = np.vstack((negative_pair, np.array([p1, p2], dtype=int)))\n",
    "    return np.concatenate((negative_pair, positive_pair))"
   ]
  },
  {
   "cell_type": "code",
   "execution_count": 6,
   "metadata": {},
   "outputs": [
    {
     "name": "stdout",
     "output_type": "stream",
     "text": [
      "(4500, 2) (1800, 2)\n"
     ]
    }
   ],
   "source": [
    "train_pair = generate_pair(500)\n",
    "test_pair = generate_pair(200)\n",
    "print(train_pair.shape, test_pair.shape)"
   ]
  },
  {
   "cell_type": "code",
   "execution_count": 7,
   "metadata": {},
   "outputs": [],
   "source": [
    "# print(test_pair[890:920])"
   ]
  },
  {
   "cell_type": "code",
   "execution_count": 8,
   "metadata": {},
   "outputs": [],
   "source": [
    "def generate_label(n):\n",
    "    # build data label\n",
    "    negative_label = np.zeros(45*n)\n",
    "    positive_label = np.ones(45*n)\n",
    "    return np.concatenate((negative_label, positive_label))    "
   ]
  },
  {
   "cell_type": "code",
   "execution_count": 9,
   "metadata": {},
   "outputs": [
    {
     "name": "stdout",
     "output_type": "stream",
     "text": [
      "(4500,) (1800,)\n"
     ]
    }
   ],
   "source": [
    "train_label = generate_label(50)\n",
    "test_label = generate_label(20)\n",
    "print(train_label.shape, test_label.shape)\n",
    "# print(test_label[890:920])"
   ]
  },
  {
   "cell_type": "code",
   "execution_count": 77,
   "metadata": {},
   "outputs": [],
   "source": [
    "# Training Parameters\n",
    "learning_rate = 0.0001\n",
    "batch_size = 128\n",
    "\n",
    "# Hyper Parameter\n",
    "num_input =  513*32 # \n",
    "num_hidden = 256  # hidden layer num of features\n",
    "num_feature = 256\n",
    "\n",
    "drop_rate = 0.2\n",
    "is_training = True\n"
   ]
  },
  {
   "cell_type": "code",
   "execution_count": 78,
   "metadata": {},
   "outputs": [
    {
     "name": "stdout",
     "output_type": "stream",
     "text": [
      "(1800, 16416) (1800,)\n"
     ]
    }
   ],
   "source": [
    "# create test data pair\n",
    "test_input_x1 = np.array([test_data_input[x[0]] for x in test_pair]).reshape(-1, num_input)\n",
    "test_input_x2 = np.array([test_data_input[x[1]] for x in test_pair]).reshape(-1, num_input)\n",
    "test_input_y = test_label\n",
    "\n",
    "print(test_input_x1.shape, test_input_y.shape)"
   ]
  },
  {
   "cell_type": "code",
   "execution_count": 79,
   "metadata": {},
   "outputs": [],
   "source": [
    "# print(test_input_x1[1500])\n",
    "# print(test_input_x2[1500])\n",
    "# print(test_input_y[1500])"
   ]
  },
  {
   "cell_type": "code",
   "execution_count": 80,
   "metadata": {},
   "outputs": [],
   "source": [
    "tf.reset_default_graph()\n",
    "\n",
    "# Create batch data for training\n",
    "train_data = tf.data.Dataset.from_tensor_slices(tf.constant(train_pair))\n",
    "label_data = tf.data.Dataset.from_tensor_slices(tf.constant(train_label))\n",
    "batch_data = tf.data.Dataset.zip((train_data, label_data)).shuffle(10**7, reshuffle_each_iteration=True)\n",
    "batch_data = batch_data.repeat().batch(batch_size)\n",
    "\n",
    "iterator = batch_data.make_one_shot_iterator()\n",
    "next_batch = iterator.get_next()"
   ]
  },
  {
   "cell_type": "code",
   "execution_count": 81,
   "metadata": {},
   "outputs": [],
   "source": [
    "with tf.variable_scope(\"nn\", reuse=tf.AUTO_REUSE):\n",
    "    X1 = tf.placeholder(\"float\", [None, num_input])\n",
    "    X2 = tf.placeholder(\"float\", [None, num_input])\n",
    "    Y = tf.placeholder(\"float\", [None])"
   ]
  },
  {
   "cell_type": "code",
   "execution_count": 82,
   "metadata": {},
   "outputs": [
    {
     "name": "stdout",
     "output_type": "stream",
     "text": [
      "(?, 256)\n",
      "(?, 256)\n",
      "(?, 1) (?,) (?,)\n"
     ]
    }
   ],
   "source": [
    "with tf.variable_scope(\"nn\", reuse=tf.AUTO_REUSE):\n",
    "    initializer = tf.contrib.layers.variance_scaling_initializer()\n",
    "    \n",
    "    \n",
    "    d1 = tf.layers.dense(X1, units=num_hidden, name=\"d1\", activation=tf.nn.relu, kernel_initializer=initializer)\n",
    "    dropout1 = tf.layers.dropout(d1, rate=drop_rate, training=is_training, name=\"dropout1\")\n",
    "    ln1 = tf.contrib.layers.layer_norm(dropout1, scope=\"ln1\")    \n",
    "    d2 = tf.layers.dense(ln1, units=num_hidden/2, name=\"d2\", activation=tf.nn.relu, kernel_initializer=initializer)\n",
    "    dropout2 = tf.layers.dropout(d2, rate=drop_rate, training=is_training, name=\"dropout2\")\n",
    "    ln2 = tf.contrib.layers.layer_norm(dropout2, scope=\"ln2\")\n",
    "    d3 = tf.layers.dense(ln2, units=num_hidden/4, name=\"d3\", activation=tf.nn.relu, kernel_initializer=initializer)\n",
    "    dropout3 = tf.layers.dropout(d3, rate=drop_rate, training=is_training, name=\"dropout3\")\n",
    "    ln3 = tf.contrib.layers.layer_norm(dropout3, scope=\"ln3\")    \n",
    "    d4 = tf.layers.dense(ln3, units=num_hidden/2, name=\"d4\", activation=tf.nn.relu, kernel_initializer=initializer)    \n",
    "    dropout4 = tf.layers.dropout(d4, rate=drop_rate, training=is_training, name=\"dropout4\")\n",
    "    ln4 = tf.contrib.layers.layer_norm(dropout4, scope=\"ln4\")\n",
    "    Y1 = tf.layers.dense(ln4, units=num_feature, name=\"d5\", kernel_initializer=initializer)\n",
    "\n",
    "    d1 = tf.layers.dense(X2, units=num_hidden, reuse=True, name=\"d1\", activation=tf.nn.relu, kernel_initializer=initializer)\n",
    "    dropout1 = tf.layers.dropout(d1, rate=drop_rate, training=is_training, name=\"dropout1\")\n",
    "    ln1 = tf.contrib.layers.layer_norm(dropout1, reuse=True, scope=\"ln1\")    \n",
    "    d2 = tf.layers.dense(ln1, units=num_hidden/2, reuse=True, name=\"d2\", activation=tf.nn.relu, kernel_initializer=initializer)\n",
    "    dropout2 = tf.layers.dropout(d2, rate=drop_rate, training=is_training, name=\"dropout2\")\n",
    "    ln2 = tf.contrib.layers.layer_norm(dropout2, reuse=True, scope=\"ln2\")\n",
    "    d3 = tf.layers.dense(ln2, units=num_hidden/4, reuse=True, name=\"d3\", activation=tf.nn.relu, kernel_initializer=initializer)\n",
    "    dropout3 = tf.layers.dropout(d3, rate=drop_rate, training=is_training, name=\"dropout3\")\n",
    "    ln3 = tf.contrib.layers.layer_norm(dropout3, reuse=True, scope=\"ln3\")\n",
    "    d4 = tf.layers.dense(ln3, units=num_hidden/2, reuse=True, name=\"d4\", activation=tf.nn.relu, kernel_initializer=initializer)    \n",
    "    dropout4 = tf.layers.dropout(d4, rate=drop_rate, training=is_training, name=\"dropout4\")\n",
    "    ln4 = tf.contrib.layers.layer_norm(dropout4, reuse=True, scope=\"ln4\")\n",
    "    Y2 = tf.layers.dense(ln4, units=num_feature, reuse=True, name=\"d5\", kernel_initializer=initializer)\n",
    "\n",
    "    print(Y1.shape)\n",
    "    print(Y2.shape)\n",
    "    Y1_Y2_product = tf.reduce_sum(tf.multiply( Y1, Y2 ), 1, keepdims=True)\n",
    "    Y_pred = tf.reshape(tf.sigmoid(Y1_Y2_product), [-1])\n",
    "    print(Y1_Y2_product.shape, Y_pred.shape, Y.shape)\n",
    "\n",
    "    loss = tf.reduce_mean( -Y*tf.log(Y_pred + 10e-6) - (1 - Y) * tf.log(1 - Y_pred + 10e-6), [-1])\n",
    "\n",
    "    correct_prediction = tf.equal(tf.round(Y_pred), Y)\n",
    "    accuracy = tf.reduce_mean(tf.cast(correct_prediction, tf.float32))\n",
    "    train_op = tf.train.AdamOptimizer(learning_rate).minimize(loss)"
   ]
  },
  {
   "cell_type": "code",
   "execution_count": 83,
   "metadata": {},
   "outputs": [],
   "source": [
    "# Initial session\n",
    "sess=tf.Session()\n",
    "tf.global_variables_initializer().run(session=sess)"
   ]
  },
  {
   "cell_type": "code",
   "execution_count": null,
   "metadata": {},
   "outputs": [],
   "source": [
    "# Training\n",
    "training_steps = 10000\n",
    "for i in range(training_steps+1):\n",
    "    (batch_x, batch_y) = sess.run(next_batch)\n",
    "    # print(batch_x, batch_y)\n",
    "    input_x1 = np.array([train_data_input[x[0]] for x in batch_x]).reshape(-1, num_input)\n",
    "    input_x2 = np.array([train_data_input[x[1]] for x in batch_x]).reshape(-1, num_input)\n",
    "    input_y = batch_y\n",
    "    _, loss_value, acc_value = sess.run((train_op, loss, accuracy), feed_dict={X1: input_x1, X2: input_x2, Y: input_y})\n",
    "    if i % 1000 == 0:\n",
    "        is_training = False\n",
    "        print('Training Step:' + str(i) + ' Train Loss = ' + str(loss_value) + \n",
    "              ' Train Accuracy = ' + str(acc_value) +              \n",
    "              ' Test Accuracy = ' + str(sess.run(accuracy, feed_dict={X1: test_input_x1, X2: test_input_x2, Y: test_input_y})))\n",
    "        is_training = True"
   ]
  },
  {
   "cell_type": "code",
   "execution_count": null,
   "metadata": {},
   "outputs": [],
   "source": []
  }
 ],
 "metadata": {
  "kernelspec": {
   "display_name": "Python 3",
   "language": "python",
   "name": "python3"
  },
  "language_info": {
   "codemirror_mode": {
    "name": "ipython",
    "version": 3
   },
   "file_extension": ".py",
   "mimetype": "text/x-python",
   "name": "python",
   "nbconvert_exporter": "python",
   "pygments_lexer": "ipython3",
   "version": "3.6.3"
  }
 },
 "nbformat": 4,
 "nbformat_minor": 2
}
