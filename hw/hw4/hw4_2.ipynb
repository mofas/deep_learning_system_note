{
 "cells": [
  {
   "cell_type": "code",
   "execution_count": null,
   "metadata": {},
   "outputs": [],
   "source": [
    "\n",
    "# ref\n",
    "# X https://github.com/altosaar/variational-autoencoder/blob/master/train_variational_autoencoder_tensorflow.py\n",
    "# X https://github.com/kvfrans/variational-autoencoder\n",
    "\n",
    "# Good \n",
    "# https://towardsdatascience.com/intuitively-understanding-variational-autoencoders-1bfe67eb5daf\n",
    "\n",
    "# Best toturial\n",
    "# https://arxiv.org/pdf/1606.05908.pdf\n",
    "\n",
    "# implementation\n",
    "# Offical\n",
    "# https://medium.com/tensorflow/variational-autoencoders-with-tensorflow-probability-layers-d06c658931b7\n",
    "\n",
    "# https://danijar.com/building-variational-auto-encoders-in-tensorflow/\n",
    "# https://docs.google.com/presentation/d/1VSNlkGcR-b39tMcuREjzZdhYOPvoZudpcbuNlf5hOIM/edit#slide=id.g30fdd2f6e9_0_72\n"
   ]
  },
  {
   "cell_type": "code",
   "execution_count": 1,
   "metadata": {},
   "outputs": [],
   "source": [
    "import matplotlib.pyplot as plt\n",
    "import numpy as np\n",
    "import tensorflow as tf\n",
    "\n",
    "# compress dim by using tSNE\n",
    "from sklearn.manifold import TSNE\n",
    "plt.style.use('default')"
   ]
  },
  {
   "cell_type": "code",
   "execution_count": 39,
   "metadata": {
    "scrolled": true
   },
   "outputs": [
    {
     "name": "stdout",
     "output_type": "stream",
     "text": [
      "Downloading data from https://storage.googleapis.com/tensorflow/tf-keras-datasets/mnist.npz\n",
      "11493376/11490434 [==============================] - 13s 1us/step\n"
     ]
    }
   ],
   "source": [
    "mnist = tf.keras.datasets.mnist\n",
    "(x_train, y_train),(x_test, y_test) = mnist.load_data()"
   ]
  },
  {
   "cell_type": "code",
   "execution_count": 43,
   "metadata": {},
   "outputs": [],
   "source": [
    "def display_digit(image, label):\n",
    "    plt.title('Label: %d' % label)\n",
    "    plt.imshow(image, cmap=plt.get_cmap('gray_r'))\n",
    "    plt.show()"
   ]
  },
  {
   "cell_type": "code",
   "execution_count": 49,
   "metadata": {},
   "outputs": [
    {
     "data": {
      "image/png": "[encoded data removed]",
      "text/plain": [
       "<Figure size 432x288 with 1 Axes>"
      ]
     },
     "metadata": {
      "needs_background": "light"
     },
     "output_type": "display_data"
    }
   ],
   "source": [
    "display_digit(x_train[3].reshape([28,28]), y_train[3])"
   ]
  },
  {
   "cell_type": "code",
   "execution_count": 23,
   "metadata": {},
   "outputs": [],
   "source": [
    "tfd = tf.contrib.distributions"
   ]
  },
  {
   "cell_type": "code",
   "execution_count": 29,
   "metadata": {},
   "outputs": [],
   "source": [
    "code_size = 16\n",
    "hidden_units = [\n",
    "    128,\n",
    "    128,\n",
    "]"
   ]
  },
  {
   "cell_type": "code",
   "execution_count": 30,
   "metadata": {},
   "outputs": [],
   "source": [
    "def make_encoder(data):\n",
    "  x = tf.layers.flatten(data)\n",
    "  x = tf.layers.dense(x, hidden_units[0], tf.nn.relu)\n",
    "  x = tf.layers.dense(x, hidden_units[1], tf.nn.relu)\n",
    "  mean = tf.layers.dense(x, code_size)\n",
    "  stddev = tf.layers.dense(x, code_size, tf.nn.softplus)\n",
    "  return tfd.MultivariateNormalDiag(mean, stddev)"
   ]
  },
  {
   "cell_type": "code",
   "execution_count": 31,
   "metadata": {},
   "outputs": [],
   "source": [
    "def make_prior():\n",
    "  mean = tf.zeros(code_size)\n",
    "  stddev = tf.ones(code_size)\n",
    "  return tfd.MultivariateNormalDiag(mean, stddev)"
   ]
  },
  {
   "cell_type": "code",
   "execution_count": 32,
   "metadata": {},
   "outputs": [],
   "source": [
    "def make_decoder(code, data_shape=[28, 28]):\n",
    "  x = code\n",
    "  x = tf.layers.dense(x, hidden_units[0], tf.nn.relu)\n",
    "  x = tf.layers.dense(x, hidden_units[1], tf.nn.relu)\n",
    "  logit = tf.layers.dense(x, np.prod(data_shape))\n",
    "  logit = tf.reshape(logit, [-1] + data_shape)\n",
    "  return tfd.Independent(tfd.Bernoulli(logit), 2)"
   ]
  },
  {
   "cell_type": "code",
   "execution_count": 33,
   "metadata": {},
   "outputs": [],
   "source": [
    "images = tf.placeholder(tf.float32, [None, 28, 28])\n",
    "prior = make_prior()\n",
    "posterior = make_encoder(images)\n",
    "dist = make_decoder(posterior.sample())\n",
    "\n"
   ]
  },
  {
   "cell_type": "code",
   "execution_count": null,
   "metadata": {},
   "outputs": [],
   "source": []
  }
 ],
 "metadata": {
  "kernelspec": {
   "display_name": "Python 3",
   "language": "python",
   "name": "python3"
  },
  "language_info": {
   "codemirror_mode": {
    "name": "ipython",
    "version": 3
   },
   "file_extension": ".py",
   "mimetype": "text/x-python",
   "name": "python",
   "nbconvert_exporter": "python",
   "pygments_lexer": "ipython3",
   "version": "3.6.3"
  }
 },
 "nbformat": 4,
 "nbformat_minor": 2
}
