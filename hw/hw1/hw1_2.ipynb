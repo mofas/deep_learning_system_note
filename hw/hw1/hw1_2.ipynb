{
 "cells": [
  {
   "cell_type": "code",
   "execution_count": 1,
   "metadata": {},
   "outputs": [],
   "source": [
    "import matplotlib.pyplot as plt\n",
    "import numpy as np\n",
    "import tensorflow as tf\n",
    "import librosa\n",
    "import math"
   ]
  },
  {
   "cell_type": "code",
   "execution_count": 2,
   "metadata": {},
   "outputs": [
    {
     "name": "stdout",
     "output_type": "stream",
     "text": [
      "(513, 2459)\n",
      "(513, 2459)\n"
     ]
    }
   ],
   "source": [
    "s, sr_s=librosa.load('data/train_clean_male.wav', sr=None)\n",
    "S=librosa.stft(s, n_fft=1024, hop_length=512)\n",
    "sn, sr_x=librosa.load('data/train_dirty_male.wav', sr=None)\n",
    "X=librosa.stft(sn, n_fft=1024, hop_length=512)\n",
    "print(S.shape)\n",
    "print(X.shape)\n",
    "S_abs = np.abs(S)\n",
    "X_abs = np.abs(X)"
   ]
  },
  {
   "cell_type": "code",
   "execution_count": 23,
   "metadata": {},
   "outputs": [],
   "source": [
    "LEARNING_RATE = 1e-3\n",
    "BATCH_SIZE = 50\n",
    "\n",
    "x = tf.placeholder(tf.float32, [None, 513])\n",
    "y_ = tf.placeholder(tf.float32, [None, 513])\n",
    "\n",
    "l1 = tf.layers.dense(x, units=200,  activation=tf.nn.relu)\n",
    "l2 = tf.layers.dense(l1, units=200,  activation=tf.nn.relu)\n",
    "l3 = tf.layers.dense(l2, units=200,  activation=tf.nn.relu)\n",
    "y = tf.layers.dense(l3, units=513, activation=tf.nn.relu)\n",
    "\n",
    "# loss = tf.reduce_sum(tf.squared_difference(y , y_))\n",
    "# loss = -tf.reduce_sum(y_*tf.log(y + 1e-10))\n",
    "loss = tf.losses.mean_pairwise_squared_error(labels=y_, predictions=y)\n",
    "train_step = tf.train.GradientDescentOptimizer(learning_rate=LEARNING_RATE).minimize(loss)\n",
    "\n",
    "sess=tf.Session()\n",
    "tf.global_variables_initializer().run(session=sess)\n",
    "\n",
    "train_data = tf.data.Dataset.from_tensor_slices(tf.constant(X_abs.T[:]))\n",
    "label_data = tf.data.Dataset.from_tensor_slices(tf.constant(S_abs.T[:]))\n",
    "zip_data = tf.data.Dataset.zip((train_data, label_data))\n",
    "\n",
    "batch_data = zip_data.batch(BATCH_SIZE)\n",
    "batch_data = batch_data.repeat()\n",
    "iterator = batch_data.make_one_shot_iterator()\n",
    "next_batch = iterator.get_next()\n"
   ]
  },
  {
   "cell_type": "code",
   "execution_count": 36,
   "metadata": {},
   "outputs": [
    {
     "name": "stdout",
     "output_type": "stream",
     "text": [
      "Training Step:0  Loss =  0.8931344\n",
      "Training Step:2000  Loss =  0.8912869\n",
      "Training Step:4000  Loss =  0.8893041\n",
      "Training Step:6000  Loss =  0.88731545\n",
      "Training Step:8000  Loss =  0.8853731\n",
      "Training Step:10000  Loss =  0.88339156\n",
      "Training Step:12000  Loss =  0.8815402\n",
      "Training Step:14000  Loss =  0.8797351\n",
      "Training Step:16000  Loss =  0.8780321\n",
      "Training Step:18000  Loss =  0.8760831\n",
      "Training Step:20000  Loss =  0.87419057\n",
      "Training Step:22000  Loss =  0.87242365\n",
      "Training Step:24000  Loss =  0.8707458\n",
      "Training Step:26000  Loss =  0.8689513\n",
      "Training Step:28000  Loss =  0.86710405\n",
      "Training Step:30000  Loss =  0.86527854\n",
      "Training Step:32000  Loss =  0.8636006\n",
      "Training Step:34000  Loss =  0.861938\n",
      "Training Step:36000  Loss =  0.860241\n",
      "Training Step:38000  Loss =  0.8586668\n",
      "Training Step:40000  Loss =  0.85702974\n",
      "Training Step:42000  Loss =  0.8553155\n",
      "Training Step:44000  Loss =  0.8538692\n",
      "Training Step:46000  Loss =  0.8523958\n",
      "Training Step:48000  Loss =  0.85096085\n",
      "Training Step:50000  Loss =  0.8494952\n"
     ]
    }
   ],
   "source": [
    "\n",
    "TRAIN_STEPS = 50000\n",
    "for i in range(TRAIN_STEPS+1):\n",
    "    batch = sess.run(next_batch)\n",
    "    _, loss_value = sess.run((train_step, loss), feed_dict={x: batch[0], y_: batch[1]})\n",
    "    if i% 2000 == 0:\n",
    "        print('Training Step:' + str(i) + '  Loss =  ' + str(loss_value))\n",
    "\n"
   ]
  },
  {
   "cell_type": "code",
   "execution_count": 34,
   "metadata": {},
   "outputs": [],
   "source": [
    "# # Test output X\n",
    "# S_test_abs = sess.run(y, feed_dict={x: X_abs.T}).T\n",
    "# ratio = X / X_abs\n",
    "# Sh = np.multiply(ratio, S_test_abs)\n",
    "# librosa.output.write_wav('recover_s1o.wav', librosa.istft(Sh, hop_length=512), sr_x)\n",
    "def denoise_sound(input_file_name, output_file_name):\n",
    "    sn, sr=librosa.load(input_file_name, sr=None)\n",
    "    testX=librosa.stft(sn, n_fft=1024, hop_length=512)\n",
    "    testX_abs = np.abs(testX)\n",
    "    S_test_abs = sess.run(y, feed_dict={x: testX_abs.T}).T\n",
    "    ratio = (testX / testX_abs)\n",
    "    Sh = np.multiply(ratio, S_test_abs)\n",
    "    librosa.output.write_wav(output_file_name, librosa.istft(Sh, hop_length=512), sr)"
   ]
  },
  {
   "cell_type": "code",
   "execution_count": 37,
   "metadata": {
    "scrolled": true
   },
   "outputs": [],
   "source": [
    "# Recover sound track\n",
    "denoise_sound('data/test_x_01.wav', 'recover_01.wav')\n",
    "denoise_sound('data/test_x_02.wav', 'recover_02.wav')\n"
   ]
  },
  {
   "cell_type": "code",
   "execution_count": 27,
   "metadata": {},
   "outputs": [],
   "source": []
  }
 ],
 "metadata": {
  "kernelspec": {
   "display_name": "Python 3",
   "language": "python",
   "name": "python3"
  },
  "language_info": {
   "codemirror_mode": {
    "name": "ipython",
    "version": 3
   },
   "file_extension": ".py",
   "mimetype": "text/x-python",
   "name": "python",
   "nbconvert_exporter": "python",
   "pygments_lexer": "ipython3",
   "version": "3.6.3"
  }
 },
 "nbformat": 4,
 "nbformat_minor": 2
}
