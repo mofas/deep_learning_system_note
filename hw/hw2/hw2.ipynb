{
 "cells": [
  {
   "cell_type": "code",
   "execution_count": 3,
   "metadata": {},
   "outputs": [],
   "source": [
    "import matplotlib.pyplot as plt\n",
    "import numpy as np\n",
    "import tensorflow as tf\n",
    "import librosa\n",
    "import math\n",
    "%matplotlib inline"
   ]
  },
  {
   "cell_type": "code",
   "execution_count": 4,
   "metadata": {},
   "outputs": [
    {
     "name": "stdout",
     "output_type": "stream",
     "text": [
      "(513, 2459)\n",
      "(513, 2459)\n"
     ]
    }
   ],
   "source": [
    "s, sr_s=librosa.load('data/train_clean_male.wav', sr=None)\n",
    "S=librosa.stft(s, n_fft=1024, hop_length=512)\n",
    "sn, sr_x=librosa.load('data/train_dirty_male.wav', sr=None)\n",
    "X=librosa.stft(sn, n_fft=1024, hop_length=512)\n",
    "print(S.shape)\n",
    "print(X.shape)\n",
    "S_abs = np.abs(S)\n",
    "X_abs = np.abs(X)"
   ]
  },
  {
   "cell_type": "code",
   "execution_count": 95,
   "metadata": {},
   "outputs": [],
   "source": [
    "LEARNING_RATE = 1e-3\n",
    "BATCH_SIZE = 64\n",
    "\n",
    "# https://riptutorial.com/tensorflow/example/19385/basic-example\n",
    "# https://towardsdatascience.com/applied-deep-learning-part-4-convolutional-neural-networks-584bc134c1e2\n",
    "\n",
    "# input of length -1, and dimension 513.\n",
    "x = tf.placeholder(tf.float32, [BATCH_SIZE, 1, 513])\n",
    "y_ = tf.placeholder(tf.float32, [BATCH_SIZE, 1, 513])\n",
    "\n",
    "# filter with width 3, and we take 513 channels as input, and output also 100 channels.\n",
    "filters = tf.Variable(tf.random_normal([3,513,100]))\n",
    "\n",
    "conv1 = tf.nn.conv1d(\n",
    "    x,            \n",
    "    filters=filters,\n",
    "    padding=\"SAME\",\n",
    "    stride=1)\n",
    "\n",
    "l1 = tf.layers.dense(conv1, units=200,  activation=tf.nn.relu)\n",
    "l2 = tf.layers.dense(l1, units=200,  activation=tf.nn.relu)\n",
    "y = tf.layers.dense(l2, units=513, activation=tf.nn.relu)\n",
    "\n",
    "loss = tf.losses.mean_pairwise_squared_error(labels=y_, predictions=y)\n",
    "# train_step = tf.train.GradientDescentOptimizer(learning_rate=LEARNING_RATE).minimize(loss)\n",
    "\n",
    "sess=tf.Session()\n",
    "tf.global_variables_initializer().run(session=sess)\n",
    "\n",
    "train_data = tf.data.Dataset.from_tensor_slices(tf.constant(X_abs.T[:]))\n",
    "label_data = tf.data.Dataset.from_tensor_slices(tf.constant(S_abs.T[:]))\n",
    "zip_data = tf.data.Dataset.zip((train_data, label_data))\n",
    "\n",
    "batch_data = zip_data.batch(BATCH_SIZE)\n",
    "batch_data = batch_data.repeat()\n",
    "iterator = batch_data.make_one_shot_iterator()\n",
    "next_batch = iterator.get_next()"
   ]
  },
  {
   "cell_type": "code",
   "execution_count": null,
   "metadata": {},
   "outputs": [],
   "source": [
    "TRAIN_STEPS = 50000\n",
    "for i in range(TRAIN_STEPS+1):\n",
    "    batch = sess.run(next_batch)\n",
    "    _, loss_value = sess.run((train_step, loss), feed_dict={x: batch[0], y_: batch[1]})\n",
    "    if i% 2000 == 0:\n",
    "        print('Training Step:' + str(i) + '  Loss =  ' + str(loss_value))"
   ]
  },
  {
   "cell_type": "code",
   "execution_count": null,
   "metadata": {},
   "outputs": [],
   "source": [
    "def denoise_sound(input_file_name, output_file_name):\n",
    "    sn, sr=librosa.load(input_file_name, sr=None)\n",
    "    testX=librosa.stft(sn, n_fft=1024, hop_length=512)\n",
    "    testX_abs = np.abs(testX)\n",
    "    S_test_abs = sess.run(y, feed_dict={x: testX_abs.T}).T\n",
    "    ratio = (testX / testX_abs)\n",
    "    Sh = np.multiply(ratio, S_test_abs)\n",
    "    librosa.output.write_wav(output_file_name, librosa.istft(Sh, hop_length=512), sr)\n",
    "    "
   ]
  },
  {
   "cell_type": "code",
   "execution_count": null,
   "metadata": {},
   "outputs": [],
   "source": [
    "denoise_sound('data/test_x_01.wav', 'recover_01.wav')\n",
    "denoise_sound('data/test_x_02.wav', 'recover_02.wav')"
   ]
  },
  {
   "cell_type": "code",
   "execution_count": null,
   "metadata": {},
   "outputs": [],
   "source": []
  }
 ],
 "metadata": {
  "kernelspec": {
   "display_name": "Python 3",
   "language": "python",
   "name": "python3"
  },
  "language_info": {
   "codemirror_mode": {
    "name": "ipython",
    "version": 3
   },
   "file_extension": ".py",
   "mimetype": "text/x-python",
   "name": "python",
   "nbconvert_exporter": "python",
   "pygments_lexer": "ipython3",
   "version": "3.6.3"
  }
 },
 "nbformat": 4,
 "nbformat_minor": 2
}
