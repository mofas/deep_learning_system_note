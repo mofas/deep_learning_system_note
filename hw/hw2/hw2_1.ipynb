{
 "cells": [
  {
   "cell_type": "code",
   "execution_count": 2,
   "metadata": {},
   "outputs": [],
   "source": [
    "import matplotlib.pyplot as plt\n",
    "import numpy as np\n",
    "import tensorflow as tf\n",
    "\n",
    "import librosa\n",
    "import math\n",
    "\n",
    "%matplotlib inline"
   ]
  },
  {
   "cell_type": "code",
   "execution_count": 3,
   "metadata": {},
   "outputs": [
    {
     "name": "stdout",
     "output_type": "stream",
     "text": [
      "(513, 2459)\n",
      "(513, 2459)\n"
     ]
    }
   ],
   "source": [
    "s, sr_s=librosa.load('data/train_clean_male.wav', sr=None)\n",
    "S=librosa.stft(s, n_fft=1024, hop_length=512)\n",
    "sn, sr_x=librosa.load('data/train_dirty_male.wav', sr=None)\n",
    "X=librosa.stft(sn, n_fft=1024, hop_length=512)\n",
    "print(S.shape)\n",
    "print(X.shape)\n",
    "S_abs = np.abs(S)\n",
    "X_abs = np.abs(X)"
   ]
  },
  {
   "cell_type": "code",
   "execution_count": 100,
   "metadata": {},
   "outputs": [],
   "source": [
    "x = tf.placeholder(tf.float32, [None, 513, 1])\n",
    "y_ = tf.placeholder(tf.float32, [None, 513])\n",
    "LEARNING_RATE = 10e-4\n",
    "\n",
    "is_training = True\n",
    "\n",
    "conv1 = tf.layers.conv1d(\n",
    "    x,            \n",
    "    filters=64,\n",
    "    kernel_size=3,\n",
    "    activation=tf.nn.relu)\n",
    "\n",
    "conv2 = tf.layers.conv1d(\n",
    "    conv1,            \n",
    "    filters=32,\n",
    "    kernel_size=3,\n",
    "    activation=tf.nn.relu)\n",
    "\n",
    "conv3 = tf.layers.conv1d(\n",
    "    conv2,            \n",
    "    filters=16,\n",
    "    kernel_size=3,\n",
    "    activation=tf.nn.relu)\n",
    "\n",
    "flat = tf.reshape(conv3, [-1, 16*507])\n",
    "l1 = tf.layers.dense(flat, units=512,  activation=tf.nn.relu)\n",
    "l2 = tf.layers.dense(l1, units=512,  activation=tf.nn.relu)\n",
    "dropout1 = tf.layers.dropout(l2, rate=0.2, training=is_training)\n",
    "y = tf.layers.dense(dropout1, units=513, activation=tf.nn.relu)\n",
    "\n",
    "loss = tf.losses.mean_squared_error(labels=y_, predictions=y)\n",
    "train_step = tf.train.AdamOptimizer(LEARNING_RATE).minimize(loss)\n",
    "\n",
    "sess=tf.Session()\n",
    "tf.global_variables_initializer().run(session=sess)\n",
    "\n",
    "train_data = tf.data.Dataset.from_tensor_slices(tf.constant(X_abs.T.reshape(-1, 513, 1)))\n",
    "label_data = tf.data.Dataset.from_tensor_slices(tf.constant(S_abs.T))\n",
    "batch_data = tf.data.Dataset.zip((train_data, label_data)).repeat().batch(BATCH_SIZE)\n",
    "\n",
    "iterator = batch_data.make_one_shot_iterator()\n",
    "next_batch = iterator.get_next()\n",
    "\n",
    "# https://www.tensorflow.org/guide/saved_model#models\n",
    "saver = tf.train.Saver()\n",
    "\n"
   ]
  },
  {
   "cell_type": "code",
   "execution_count": 107,
   "metadata": {},
   "outputs": [
    {
     "name": "stdout",
     "output_type": "stream",
     "text": [
      "INFO:tensorflow:Restoring parameters from ./hw2_1.ckpt\n",
      "Training Step:0  Loss =  0.0062892335\n",
      "Training Step:500  Loss =  0.024055108\n",
      "Training Step:1000  Loss =  0.0032384258\n",
      "Training Step:1500  Loss =  0.018285573\n",
      "Training Step:2000  Loss =  0.004243582\n",
      "Training Step:2500  Loss =  0.0016892772\n",
      "Training Step:3000  Loss =  0.003568292\n",
      "Training Step:3500  Loss =  0.0021236362\n",
      "Training Step:4000  Loss =  0.005993988\n"
     ]
    }
   ],
   "source": [
    "CHECK_POINT_FILE_NAME = \"./hw2_1.ckpt\"\n",
    "TRAIN_STEPS = 4000\n",
    "\n",
    "try:\n",
    "    saver.restore(sess, CHECK_POINT_FILE_NAME)\n",
    "except:\n",
    "    pass\n",
    "\n",
    "for i in range(TRAIN_STEPS+1):    \n",
    "    batch = sess.run(next_batch)\n",
    "    _, loss_value = sess.run((train_step, loss), feed_dict={x: batch[0], y_: batch[1]})\n",
    "    if i% 500 == 0:\n",
    "        print('Training Step:' + str(i) + '  Loss =  ' + str(loss_value))\n",
    "        \n",
    "# save model\n",
    "save_path = saver.save(sess, CHECK_POINT_FILE_NAME)\n"
   ]
  },
  {
   "cell_type": "code",
   "execution_count": 108,
   "metadata": {},
   "outputs": [],
   "source": [
    "def denoise_sound_conv1(input_file_name, output_file_name):\n",
    "    sn, sr=librosa.load(input_file_name, sr=None)\n",
    "    testX=librosa.stft(sn, n_fft=1024, hop_length=512)\n",
    "    testX_abs = np.abs(testX)\n",
    "    is_training = False\n",
    "    S_test_abs = sess.run(y, feed_dict={x: testX_abs.T.reshape(-1, 513, 1) }).T\n",
    "    is_training = True\n",
    "    print(S_test_abs.shape)\n",
    "    ratio = (testX / testX_abs)\n",
    "    Sh = np.multiply(ratio, S_test_abs)\n",
    "    librosa.output.write_wav(output_file_name, librosa.istft(Sh, hop_length=512), sr)\n",
    "    "
   ]
  },
  {
   "cell_type": "code",
   "execution_count": 114,
   "metadata": {},
   "outputs": [
    {
     "name": "stdout",
     "output_type": "stream",
     "text": [
      "(513, 142)\n"
     ]
    }
   ],
   "source": [
    "denoise_sound_conv1('data/test_x_01.wav', 'recover_01_d1x.wav')\n",
    "denoise_sound_conv1('data/test_x_02.wav', 'recover_02_d2x.wav')"
   ]
  },
  {
   "cell_type": "code",
   "execution_count": 104,
   "metadata": {},
   "outputs": [],
   "source": [
    "# Calculate SNR \n",
    "def calculateSNR(st, st_h):\n",
    "    st_sum = np.sum(np.abs(st))\n",
    "    diff_sum = np.sum(np.abs(st-st_h))\n",
    "#     print(st_sum, diff_sum)\n",
    "    return 10*math.log(st_sum**2/diff_sum**2)"
   ]
  },
  {
   "cell_type": "code",
   "execution_count": 110,
   "metadata": {},
   "outputs": [
    {
     "name": "stdout",
     "output_type": "stream",
     "text": [
      "15.526661721097629\n"
     ]
    }
   ],
   "source": [
    "# Calculate SNR by training data\n",
    "S_test_abs = sess.run(y, feed_dict={x: X_abs.T.reshape(-1, 513, 1) }).T\n",
    "ratio = (X / X_abs)\n",
    "s_t = np.multiply(ratio, S_test_abs)\n",
    "print(calculateSNR(S, s_t))"
   ]
  },
  {
   "cell_type": "markdown",
   "metadata": {},
   "source": [
    "### CNN 2D\n"
   ]
  },
  {
   "cell_type": "code",
   "execution_count": 115,
   "metadata": {},
   "outputs": [],
   "source": [
    "# Transform a spectra to image like data form with dim 20x513\n",
    "def imageize_spec(X):\n",
    "    raw = []\n",
    "    for t in range(len(X)-19):\n",
    "        raw.append(X[t: t+20])\n",
    "    X_abs_2d = np.array(raw).reshape(-1, 20, 513, 1)\n",
    "    return X_abs_2d\n",
    "    "
   ]
  },
  {
   "cell_type": "code",
   "execution_count": 116,
   "metadata": {},
   "outputs": [],
   "source": [
    "def padding_frames(X):\n",
    "    testX_pad = X\n",
    "    # padding\n",
    "    for i in range(19):\n",
    "        testX_pad = np.hstack((testX_pad, np.zeros((513, 1))))\n",
    "    return testX_pad\n"
   ]
  },
  {
   "cell_type": "code",
   "execution_count": 129,
   "metadata": {},
   "outputs": [],
   "source": [
    "x = tf.placeholder(tf.float32, [None, 20, 513, 1])\n",
    "y_ = tf.placeholder(tf.float32, [None, 513])\n",
    "LEARNING_RATE = 10e-4\n",
    "\n",
    "is_training = True\n",
    "\n",
    "#  18 * 511 * 16 \n",
    "conv1 = tf.layers.conv2d(\n",
    "    x,            \n",
    "    filters=16,\n",
    "    kernel_size=[3, 3],\n",
    "    activation=tf.nn.relu)\n",
    "\n",
    "# 9 * 255 * 16\n",
    "pool1 = tf.layers.max_pooling2d(inputs=conv1, pool_size=[2, 2], strides=2)\n",
    "\n",
    "# 7 * 253 * 32\n",
    "conv2 = tf.layers.conv2d(\n",
    "    pool1,            \n",
    "    filters=32,\n",
    "    kernel_size=[3, 3],\n",
    "    activation=tf.nn.relu)\n",
    "\n",
    "# 3 * 126 * 32\n",
    "pool2 = tf.layers.max_pooling2d(inputs=conv2, pool_size=[2, 2], strides=2)\n",
    "\n",
    "# 1 * 124 * 64\n",
    "conv3 = tf.layers.conv2d(\n",
    "    pool2,            \n",
    "    filters=64,\n",
    "    kernel_size=[3, 3],\n",
    "    activation=tf.nn.relu)\n",
    "\n",
    "flat = tf.reshape(conv3, [-1, 124*64])\n",
    "\n",
    "l1 = tf.layers.dense(flat, units=512,  activation=tf.nn.relu)\n",
    "l2 = tf.layers.dense(l1, units=512,  activation=tf.nn.relu)\n",
    "dropout1 = tf.layers.dropout(l2, rate=0.2, training=is_training)\n",
    "y = tf.layers.dense(dropout1, units=513, activation=tf.nn.relu)\n",
    "\n",
    "loss = tf.losses.mean_squared_error(labels=y_, predictions=y)\n",
    "train_step = tf.train.AdamOptimizer(LEARNING_RATE).minimize(loss)\n",
    "\n",
    "sess=tf.Session()\n",
    "tf.global_variables_initializer().run(session=sess)\n",
    "\n"
   ]
  },
  {
   "cell_type": "code",
   "execution_count": 130,
   "metadata": {},
   "outputs": [
    {
     "name": "stdout",
     "output_type": "stream",
     "text": [
      "(2459, 20, 513, 1)\n",
      "(2459, 513)\n"
     ]
    }
   ],
   "source": [
    "# \"imageize\" data for 2D CNN\n",
    "S_abs_T = S_abs.T\n",
    "X_abs_T = np.abs(padding_frames(X)).T\n",
    "S_abs_2d = S_abs_T\n",
    "X_abs_2d = imageize_spec(X_abs_T)\n",
    "\n",
    "print(X_abs_2d.shape)\n",
    "print(S_abs_T.shape)\n",
    "\n"
   ]
  },
  {
   "cell_type": "code",
   "execution_count": 131,
   "metadata": {},
   "outputs": [],
   "source": [
    "# Modify data for training\n",
    "train_data = tf.data.Dataset.from_tensor_slices(tf.constant(X_abs_2d))\n",
    "label_data = tf.data.Dataset.from_tensor_slices(tf.constant(S_abs.T))\n",
    "batch_data = tf.data.Dataset.zip((train_data, label_data)).repeat().batch(BATCH_SIZE)\n",
    "\n",
    "iterator = batch_data.make_one_shot_iterator()\n",
    "next_batch = iterator.get_next()\n",
    "\n",
    "saver = tf.train.Saver()\n"
   ]
  },
  {
   "cell_type": "code",
   "execution_count": 139,
   "metadata": {},
   "outputs": [
    {
     "name": "stdout",
     "output_type": "stream",
     "text": [
      "INFO:tensorflow:Restoring parameters from ./hw2_2.ckpt\n",
      "Training Step:0  Loss =  0.0024328316\n",
      "Training Step:500  Loss =  0.060028516\n",
      "Training Step:1000  Loss =  0.01041532\n",
      "Training Step:1500  Loss =  0.0148081565\n",
      "Training Step:2000  Loss =  0.0039612055\n",
      "Training Step:2500  Loss =  0.010793383\n",
      "Training Step:3000  Loss =  0.009091403\n",
      "Training Step:3500  Loss =  0.0030028434\n",
      "Training Step:4000  Loss =  0.0040838136\n"
     ]
    }
   ],
   "source": [
    "CHECK_POINT_FILE_NAME = \"./hw2_2.ckpt\"\n",
    "TRAIN_STEPS = 4000\n",
    "\n",
    "try:\n",
    "    saver.restore(sess, CHECK_POINT_FILE_NAME)\n",
    "except:\n",
    "    pass\n",
    "\n",
    "for i in range(TRAIN_STEPS+1):    \n",
    "    batch = sess.run(next_batch)\n",
    "    _, loss_value = sess.run((train_step, loss), feed_dict={x: batch[0], y_: batch[1]})\n",
    "    if i% 500 == 0:\n",
    "        print('Training Step:' + str(i) + '  Loss =  ' + str(loss_value))\n",
    "        \n",
    "# save model\n",
    "save_path = saver.save(sess, CHECK_POINT_FILE_NAME)\n"
   ]
  },
  {
   "cell_type": "code",
   "execution_count": 140,
   "metadata": {},
   "outputs": [],
   "source": [
    "def denoise_sound_conv2(input_file_name, output_file_name):\n",
    "    sn, sr=librosa.load(input_file_name, sr=None)\n",
    "    testX=librosa.stft(sn, n_fft=1024, hop_length=512)\n",
    "    testX_abs = np.abs(testX)\n",
    "    testX_abs_pad = np.abs(padding_frames(testX))\n",
    "    X_abs_2d = imageize_spec(testX_abs_pad.T)\n",
    "    is_training = False\n",
    "    S_test_abs = sess.run(y, feed_dict={x: X_abs_2d }).T\n",
    "    is_training = True\n",
    "    print(S_test_abs.shape)\n",
    "    ratio = (testX / testX_abs)\n",
    "    Sh = np.multiply(ratio, S_test_abs)\n",
    "    librosa.output.write_wav(output_file_name, librosa.istft(Sh, hop_length=512), sr)\n",
    "    "
   ]
  },
  {
   "cell_type": "code",
   "execution_count": 141,
   "metadata": {},
   "outputs": [
    {
     "name": "stdout",
     "output_type": "stream",
     "text": [
      "(513, 142)\n",
      "(513, 380)\n"
     ]
    }
   ],
   "source": [
    "denoise_sound_conv2('data/test_x_01.wav', 'recover_01_d2x.wav')\n",
    "denoise_sound_conv2('data/test_x_02.wav', 'recover_02_d2x.wav')"
   ]
  },
  {
   "cell_type": "code",
   "execution_count": 138,
   "metadata": {},
   "outputs": [
    {
     "name": "stdout",
     "output_type": "stream",
     "text": [
      "12.166169347936753\n"
     ]
    }
   ],
   "source": [
    "# Calculate SNR by training data\n",
    "testX_abs = X_abs\n",
    "testX_pad = X_abs\n",
    "\n",
    "# padding\n",
    "for i in range(19):\n",
    "    testX_pad = np.hstack((testX_pad, np.zeros((513, 1))))\n",
    "testX_abs_pad = np.abs(testX_pad)\n",
    "\n",
    "X_abs_2d = imageize_spec(testX_abs_pad.T)\n",
    "is_training = False\n",
    "S_test_abs = sess.run(y, feed_dict={x: X_abs_2d }).T\n",
    "is_training = True\n",
    "\n",
    "ratio = (X / X_abs)\n",
    "s_t = np.multiply(ratio, S_test_abs)\n",
    "print(calculateSNR(S, s_t))\n"
   ]
  },
  {
   "cell_type": "code",
   "execution_count": null,
   "metadata": {},
   "outputs": [],
   "source": []
  }
 ],
 "metadata": {
  "kernelspec": {
   "display_name": "Python 3",
   "language": "python",
   "name": "python3"
  },
  "language_info": {
   "codemirror_mode": {
    "name": "ipython",
    "version": 3
   },
   "file_extension": ".py",
   "mimetype": "text/x-python",
   "name": "python",
   "nbconvert_exporter": "python",
   "pygments_lexer": "ipython3",
   "version": "3.6.3"
  }
 },
 "nbformat": 4,
 "nbformat_minor": 2
}
