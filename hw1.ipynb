{
 "cells": [
  {
   "cell_type": "code",
   "execution_count": 1,
   "metadata": {},
   "outputs": [],
   "source": [
    "import matplotlib.pyplot as plt\n",
    "import numpy as np\n",
    "import tensorflow as tf"
   ]
  },
  {
   "cell_type": "code",
   "execution_count": 2,
   "metadata": {
    "scrolled": false
   },
   "outputs": [
    {
     "name": "stdout",
     "output_type": "stream",
     "text": [
      "WARNING:tensorflow:From <ipython-input-2-4e25ee396bc7>:2: read_data_sets (from tensorflow.contrib.learn.python.learn.datasets.mnist) is deprecated and will be removed in a future version.\n",
      "Instructions for updating:\n",
      "Please use alternatives such as official/mnist/dataset.py from tensorflow/models.\n",
      "WARNING:tensorflow:From /Library/Frameworks/Python.framework/Versions/3.6/lib/python3.6/site-packages/tensorflow/contrib/learn/python/learn/datasets/mnist.py:260: maybe_download (from tensorflow.contrib.learn.python.learn.datasets.base) is deprecated and will be removed in a future version.\n",
      "Instructions for updating:\n",
      "Please write your own downloading logic.\n",
      "WARNING:tensorflow:From /Library/Frameworks/Python.framework/Versions/3.6/lib/python3.6/site-packages/tensorflow/contrib/learn/python/learn/datasets/mnist.py:262: extract_images (from tensorflow.contrib.learn.python.learn.datasets.mnist) is deprecated and will be removed in a future version.\n",
      "Instructions for updating:\n",
      "Please use tf.data to implement this functionality.\n",
      "Extracting MNIST_data/train-images-idx3-ubyte.gz\n",
      "WARNING:tensorflow:From /Library/Frameworks/Python.framework/Versions/3.6/lib/python3.6/site-packages/tensorflow/contrib/learn/python/learn/datasets/mnist.py:267: extract_labels (from tensorflow.contrib.learn.python.learn.datasets.mnist) is deprecated and will be removed in a future version.\n",
      "Instructions for updating:\n",
      "Please use tf.data to implement this functionality.\n",
      "Extracting MNIST_data/train-labels-idx1-ubyte.gz\n",
      "WARNING:tensorflow:From /Library/Frameworks/Python.framework/Versions/3.6/lib/python3.6/site-packages/tensorflow/contrib/learn/python/learn/datasets/mnist.py:110: dense_to_one_hot (from tensorflow.contrib.learn.python.learn.datasets.mnist) is deprecated and will be removed in a future version.\n",
      "Instructions for updating:\n",
      "Please use tf.one_hot on tensors.\n",
      "Extracting MNIST_data/t10k-images-idx3-ubyte.gz\n",
      "Extracting MNIST_data/t10k-labels-idx1-ubyte.gz\n",
      "WARNING:tensorflow:From /Library/Frameworks/Python.framework/Versions/3.6/lib/python3.6/site-packages/tensorflow/contrib/learn/python/learn/datasets/mnist.py:290: DataSet.__init__ (from tensorflow.contrib.learn.python.learn.datasets.mnist) is deprecated and will be removed in a future version.\n",
      "Instructions for updating:\n",
      "Please use alternatives such as official/mnist/dataset.py from tensorflow/models.\n"
     ]
    }
   ],
   "source": [
    "from tensorflow.examples.tutorials.mnist import input_data\n",
    "mnist = input_data.read_data_sets(\"MNIST_data\", one_hot=True)"
   ]
  },
  {
   "cell_type": "code",
   "execution_count": 3,
   "metadata": {},
   "outputs": [
    {
     "name": "stdout",
     "output_type": "stream",
     "text": [
      "(55000, 784) (5000, 784) (10000, 784)\n",
      "(55000, 10) (5000, 10) (10000, 10)\n"
     ]
    }
   ],
   "source": [
    "print(mnist.train.images.shape, mnist.validation.images.shape, mnist.test.images.shape)\n",
    "print(mnist.train.labels.shape, mnist.validation.labels.shape, mnist.test.labels.shape)"
   ]
  },
  {
   "cell_type": "code",
   "execution_count": 4,
   "metadata": {},
   "outputs": [],
   "source": [
    "# def TRAIN_SIZE(num):\n",
    "#     print ('Total Training Images in Dataset = ' + str(mnist.train.images.shape))\n",
    "#     print ('--------------------------------------------------')\n",
    "#     x_train = mnist.train.images[:num,:]\n",
    "#     print ('x_train Examples Loaded = ' + str(x_train.shape))\n",
    "#     y_train = mnist.train.labels[:num,:]\n",
    "#     print ('y_train Examples Loaded = ' + str(y_train.shape))\n",
    "#     print('')\n",
    "#     return x_train, y_train\n",
    "\n",
    "# def TEST_SIZE(num):\n",
    "#     print ('Total Test Examples in Dataset = ' + str(mnist.test.images.shape))\n",
    "#     print ('--------------------------------------------------')\n",
    "#     x_test = mnist.test.images[:num,:]\n",
    "#     print ('x_test Examples Loaded = ' + str(x_test.shape))\n",
    "#     y_test = mnist.test.labels[:num,:]\n",
    "#     print ('y_test Examples Loaded = ' + str(y_test.shape))\n",
    "#     return x_test, y_test\n",
    "\n",
    "def display_digit(x_train, y_train, num):\n",
    "    label = y_train[num].argmax(axis=0)\n",
    "    image = x_train[num].reshape([28,28])\n",
    "    plt.title('Example: %d  Label: %d' % (num, label))\n",
    "    plt.imshow(image, cmap=plt.get_cmap('gray_r'))\n",
    "    plt.show()\n"
   ]
  },
  {
   "cell_type": "code",
   "execution_count": 5,
   "metadata": {},
   "outputs": [],
   "source": [
    "LEARNING_RATE = 1e-3\n",
    "IS_LEARNING = True\n",
    "x = tf.placeholder(tf.float32, [None, 784])\n",
    "y_ = tf.placeholder(tf.float32, [None, 10])\n",
    "\n",
    "l1 = tf.layers.dense(x, units=50,  activation=tf.nn.relu, name='l1')\n",
    "l2 = tf.layers.dropout(inputs=l1, rate=0.2, training=IS_LEARNING, name='l2')\n",
    "l3 = tf.layers.dense(l2, units=50,  activation=tf.nn.relu, name='l3')\n",
    "l4 = tf.layers.dropout(inputs=l3, rate=0.2, training=IS_LEARNING, name='l4')\n",
    "l5 = tf.layers.dense(l4, units=10, name='l5')\n",
    "\n",
    "y = tf.nn.softmax(l5, name='y')\n",
    "\n",
    "# loss = tf.losses.mean_squared_error(labels=y_, predictions=y)\n",
    "# loss = tf.reduce_mean(-tf.reduce_sum(y_ * tf.log(y), reduction_indices=[1]))\n",
    "loss = tf.reduce_mean(tf.nn.softmax_cross_entropy_with_logits_v2(labels=y_, logits=y))\n",
    "\n",
    "train_step = tf.train.AdamOptimizer(learning_rate=0.001).minimize(loss)\n",
    "# train_step = tf.train.GradientDescentOptimizer(LEARNING_RATE).minimize(loss)\n",
    "\n",
    "correct_prediction = tf.equal(tf.argmax(y, 1), tf.argmax(y_, 1))\n",
    "accuracy = tf.reduce_mean(tf.cast(correct_prediction, tf.float32))\n",
    "\n",
    "# sess = tf.Session()\n",
    "# sess.run(tf.global_variables_initializer())\n",
    "\n",
    "sess=tf.Session()\n",
    "tf.global_variables_initializer().run(session=sess)\n",
    "\n",
    "\n"
   ]
  },
  {
   "cell_type": "code",
   "execution_count": 6,
   "metadata": {},
   "outputs": [
    {
     "name": "stdout",
     "output_type": "stream",
     "text": [
      "Training Step:0  Accuracy =  0.1258  Loss =  2.302125\n",
      "Training Step:1000  Accuracy =  0.9121  Loss =  1.5616546\n",
      "Training Step:2000  Accuracy =  0.9263  Loss =  1.5002497\n",
      "Training Step:3000  Accuracy =  0.9325  Loss =  1.5192053\n",
      "Training Step:4000  Accuracy =  0.9401  Loss =  1.6008058\n",
      "Training Step:5000  Accuracy =  0.9398  Loss =  1.520353\n",
      "Training Step:6000  Accuracy =  0.9435  Loss =  1.5336838\n",
      "Training Step:7000  Accuracy =  0.9448  Loss =  1.5479112\n",
      "Training Step:8000  Accuracy =  0.9487  Loss =  1.5511177\n",
      "Training Step:9000  Accuracy =  0.9498  Loss =  1.4999757\n",
      "Training Step:10000  Accuracy =  0.9488  Loss =  1.4756835\n"
     ]
    }
   ],
   "source": [
    "\n",
    "TRAIN_STEPS = 10000\n",
    "\n",
    "for i in range(TRAIN_STEPS+1):\n",
    "    batch = mnist.train.next_batch(100)\n",
    "    _, loss_value = sess.run((train_step, loss), feed_dict={x: batch[0], y_: batch[1]})\n",
    "    if i%1000 == 0:\n",
    "        IS_LEARNING = False\n",
    "        print('Training Step:' + str(i) + '  Accuracy =  ' + \n",
    "              str(sess.run(accuracy, feed_dict={x: mnist.test.images, y_: mnist.test.labels})) + \n",
    "              '  Loss =  ' + str(loss_value))\n",
    "        IS_LEARNING = True\n",
    "                        "
   ]
  },
  {
   "cell_type": "code",
   "execution_count": 27,
   "metadata": {},
   "outputs": [
    {
     "name": "stdout",
     "output_type": "stream",
     "text": [
      "(1000, 784) (1000, 10)\n",
      "(1000, 794)\n"
     ]
    }
   ],
   "source": [
    "IS_LEARNING = False\n",
    "\n",
    "examples = mnist.test.next_batch(1000)\n",
    "images = examples[0]\n",
    "y_output = sess.run(y, feed_dict={x: examples[0], y_: examples[1]})\n",
    "\n",
    "print(images.shape, y_output.shape)\n",
    "\n",
    "y_info = np.hstack((images, y_output))\n",
    "\n",
    "print(y_info.shape)\n",
    "\n",
    "        \n",
    "IS_LEARNING = True\n",
    "                        \n",
    "            \n",
    "# with tf.variable_scope('y', reuse=True):\n",
    "#     w = tf.get_variable('kernel')\n",
    "#     w_val = sess.run(w)\n",
    "#     print(w_val.shape)\n",
    "#     plt.figure()\n",
    "#     plt.imshow(w_val)\n",
    "#     plt.axis('off')\n",
    "#     plt.title('Last Layer Weights')    \n"
   ]
  },
  {
   "cell_type": "code",
   "execution_count": 66,
   "metadata": {},
   "outputs": [
    {
     "data": {
      "image/png": "[encoded data removed]",
      "text/plain": [
       "<Figure size 432x288 with 100 Axes>"
      ]
     },
     "metadata": {
      "needs_background": "light"
     },
     "output_type": "display_data"
    }
   ],
   "source": [
    "for i in range(10):\n",
    "    y_info = y_info[y_info[:,784+i].argsort()][::-1]\n",
    "    for j in range(10):    \n",
    "        ax=plt.subplot2grid((10, 10), (i, j))\n",
    "        ax.imshow(y_info[j][0:784].reshape(28,28))\n",
    "        plt.axis('off')\n",
    "\n"
   ]
  },
  {
   "cell_type": "code",
   "execution_count": 15,
   "metadata": {},
   "outputs": [],
   "source": [
    "import librosa\n",
    "import numpy as np\n",
    "\n",
    "s, sr=librosa.load(\"data/train_clean_male.wav\", sr=None)\n",
    "S=librosa.stft(s, n_fft=1024, hop_length=512)\n",
    "sn, sr=librosa.load(\"data/train_dirty_male.wav\", sr=None)\n",
    "X=librosa.stft(sn, n_fft=1024, hop_length=512)\n",
    "# print(S.shape)\n",
    "# print(X.shape)\n",
    "# print(S);\n",
    "# print(np.abs(S));\n"
   ]
  },
  {
   "cell_type": "code",
   "execution_count": 105,
   "metadata": {},
   "outputs": [
    {
     "name": "stdout",
     "output_type": "stream",
     "text": [
      "['/device:CPU:0']\n"
     ]
    }
   ],
   "source": [
    "from tensorflow.python.client import device_lib\n",
    "\n",
    "def get_available_devices():\n",
    "    local_device_protos = device_lib.list_local_devices()\n",
    "    return [x.name for x in local_device_protos]\n",
    "\n",
    "print(get_available_devices())"
   ]
  },
  {
   "cell_type": "code",
   "execution_count": null,
   "metadata": {},
   "outputs": [],
   "source": []
  }
 ],
 "metadata": {
  "kernelspec": {
   "display_name": "Python 3",
   "language": "python",
   "name": "python3"
  },
  "language_info": {
   "codemirror_mode": {
    "name": "ipython",
    "version": 3
   },
   "file_extension": ".py",
   "mimetype": "text/x-python",
   "name": "python",
   "nbconvert_exporter": "python",
   "pygments_lexer": "ipython3",
   "version": "3.6.3"
  }
 },
 "nbformat": 4,
 "nbformat_minor": 2
}
